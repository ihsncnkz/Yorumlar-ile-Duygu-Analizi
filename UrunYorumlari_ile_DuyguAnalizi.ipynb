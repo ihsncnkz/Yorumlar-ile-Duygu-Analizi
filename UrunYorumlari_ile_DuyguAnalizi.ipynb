{
 "cells": [
  {
   "cell_type": "markdown",
   "id": "07647431",
   "metadata": {
    "papermill": {
     "duration": 0.014968,
     "end_time": "2022-11-12T01:40:59.695515",
     "exception": false,
     "start_time": "2022-11-12T01:40:59.680547",
     "status": "completed"
    },
    "tags": []
   },
   "source": [
    "# Giriş\n",
    "Merhaba, TechCareer tarafından düzenlenen Machine Learning Bootcamp eğitiminin son aşaması olan bu projemi sizlere tanıtmak istiyorum. İlk önce eğitimden bahsedelim, Machine Learning Bootcamp sürecinde, makine öğrenimi modelleri ve derin öğrenme modelleri üzerinde eğitim geçekleştirdik. Bu eğitim 1 ay'lık bir zaman diliminde gerçekleşmiştir. Şimdi projemden bahsetmem gerekir ise, ben bu projemde ürün yorumlarından oluşan veri setinden yorumları sınıflandırma işlemi gerçekleştirdim. Projem boyunca uyguladığım Makine öğrenimi modelleri:<br>\n",
    "- Naive Bayes Classification\n",
    "    - Gaussian Naive Bayes\n",
    "    - Multinomial Naive Bayes\n",
    "    - Bernoulli Naive Bayes\n",
    "- Support Vector Machine Classification\n",
    "- Logistic Regression\n",
    "- K-Nearest Neighbors(KNN)\n",
    "- Decision Tree Classification\n",
    "- Random Forest Classification\n",
    "\n",
    "Uyguladığım makine öğrenimi modellerini eğitim sonuçlarını karşılaştırdım. Aynı zamanda derin öğrenme modelleri olan RNN(Reccurrent Neural Network) ve LSTM(Long short-term memory) modellerini uyguladım. Umarım projem sizin için yararlı olmuştur.\n",
    "\n",
    "Sizlerde TechCareer bootcamplerinden haberdar olmak ve katılmak isterseniz lütfen [buraya tıklayın](https://www.techcareer.net/bootcamp)\n",
    "    "
   ]
  },
  {
   "cell_type": "markdown",
   "id": "b56d902b",
   "metadata": {
    "papermill": {
     "duration": 0.012809,
     "end_time": "2022-11-12T01:40:59.721676",
     "exception": false,
     "start_time": "2022-11-12T01:40:59.708867",
     "status": "completed"
    },
    "tags": []
   },
   "source": [
    "# İçindekiler <a id = \"cont\"></a>\n",
    "- [Veri Seti İncelemesi](#1)\n",
    "- [Veri Setini Hazırlama Aşaması](#2)\n",
    "- [2. Hazırlık Aşaması](#3)\n",
    "- [Makine Öğrenim Modelleri](#möm)\n",
    "    - [Naive Bayes Classification](#4)\n",
    "    - [Support Vector Machine Classification](#5)\n",
    "    - [Logistic Regression](#6)\n",
    "    - [K-Nearest Neighbors(KNN)](#7)\n",
    "    - [Decision Tree Classification](#8)\n",
    "    - [Random Forest Classification](#9)\n",
    "- [Derin Öğrenme Modelleri](#döm)\n",
    "    - [RNN(Reccurrent Neural Network)](#10)\n",
    "    - [LSTM(Long short-term memory)](#11)\n",
    "- [Sonuç](#son)"
   ]
  },
  {
   "cell_type": "code",
   "execution_count": 1,
   "id": "4c9e5aa3",
   "metadata": {
    "_cell_guid": "b1076dfc-b9ad-4769-8c92-a6c4dae69d19",
    "_uuid": "8f2839f25d086af736a60e9eeb907d3b93b6e0e5",
    "execution": {
     "iopub.execute_input": "2022-11-12T01:40:59.750823Z",
     "iopub.status.busy": "2022-11-12T01:40:59.749953Z",
     "iopub.status.idle": "2022-11-12T01:41:00.679658Z",
     "shell.execute_reply": "2022-11-12T01:41:00.678679Z"
    },
    "papermill": {
     "duration": 0.947225,
     "end_time": "2022-11-12T01:41:00.682147",
     "exception": false,
     "start_time": "2022-11-12T01:40:59.734922",
     "status": "completed"
    },
    "tags": []
   },
   "outputs": [],
   "source": [
    "# Kullandığım Kütüphanelerim\n",
    "import numpy as np \n",
    "import pandas as pd \n",
    "import matplotlib.pyplot as plt\n",
    "import seaborn as sns\n",
    "\n",
    "# Uyarıları görmezden gelme!\n",
    "import warnings\n",
    "warnings.filterwarnings(\"ignore\")"
   ]
  },
  {
   "cell_type": "markdown",
   "id": "bd215d8a",
   "metadata": {
    "papermill": {
     "duration": 0.014652,
     "end_time": "2022-11-12T01:41:00.710408",
     "exception": false,
     "start_time": "2022-11-12T01:41:00.695756",
     "status": "completed"
    },
    "tags": []
   },
   "source": [
    "# Veri Seti İncelemesi <a id = \"1\"></a>\n",
    "[Go Content](#cont)"
   ]
  },
  {
   "cell_type": "code",
   "execution_count": 2,
   "id": "f1d01b81",
   "metadata": {
    "execution": {
     "iopub.execute_input": "2022-11-12T01:41:00.738328Z",
     "iopub.status.busy": "2022-11-12T01:41:00.737993Z",
     "iopub.status.idle": "2022-11-12T01:41:00.828935Z",
     "shell.execute_reply": "2022-11-12T01:41:00.827982Z"
    },
    "papermill": {
     "duration": 0.10753,
     "end_time": "2022-11-12T01:41:00.831287",
     "exception": false,
     "start_time": "2022-11-12T01:41:00.723757",
     "status": "completed"
    },
    "tags": []
   },
   "outputs": [],
   "source": [
    "data = pd.read_csv(\"/kaggle/input/duygu-analizi-icin-urun-yorumlari/magaza_yorumlari_duygu_analizi.csv\", encoding = \"utf-16\")"
   ]
  },
  {
   "cell_type": "code",
   "execution_count": 3,
   "id": "86e8ab55",
   "metadata": {
    "execution": {
     "iopub.execute_input": "2022-11-12T01:41:00.861830Z",
     "iopub.status.busy": "2022-11-12T01:41:00.860042Z",
     "iopub.status.idle": "2022-11-12T01:41:00.877287Z",
     "shell.execute_reply": "2022-11-12T01:41:00.876239Z"
    },
    "papermill": {
     "duration": 0.034751,
     "end_time": "2022-11-12T01:41:00.880331",
     "exception": false,
     "start_time": "2022-11-12T01:41:00.845580",
     "status": "completed"
    },
    "tags": []
   },
   "outputs": [
    {
     "data": {
      "text/html": [
       "<div>\n",
       "<style scoped>\n",
       "    .dataframe tbody tr th:only-of-type {\n",
       "        vertical-align: middle;\n",
       "    }\n",
       "\n",
       "    .dataframe tbody tr th {\n",
       "        vertical-align: top;\n",
       "    }\n",
       "\n",
       "    .dataframe thead th {\n",
       "        text-align: right;\n",
       "    }\n",
       "</style>\n",
       "<table border=\"1\" class=\"dataframe\">\n",
       "  <thead>\n",
       "    <tr style=\"text-align: right;\">\n",
       "      <th></th>\n",
       "      <th>Görüş</th>\n",
       "      <th>Durum</th>\n",
       "    </tr>\n",
       "  </thead>\n",
       "  <tbody>\n",
       "    <tr>\n",
       "      <th>0</th>\n",
       "      <td>ses kalitesi ve ergonomisi rezalet, sony olduğ...</td>\n",
       "      <td>Olumsuz</td>\n",
       "    </tr>\n",
       "    <tr>\n",
       "      <th>1</th>\n",
       "      <td>hizli teslimat tesekkürler</td>\n",
       "      <td>Tarafsız</td>\n",
       "    </tr>\n",
       "    <tr>\n",
       "      <th>2</th>\n",
       "      <td>ses olayı süper....gece çalıştır sıkıntı yok.....</td>\n",
       "      <td>Olumlu</td>\n",
       "    </tr>\n",
       "    <tr>\n",
       "      <th>3</th>\n",
       "      <td>geldi bigün kullandık hemen bozoldu hiçtavsiye...</td>\n",
       "      <td>Olumsuz</td>\n",
       "    </tr>\n",
       "    <tr>\n",
       "      <th>4</th>\n",
       "      <td>Kulaklığın sesi kaliteli falan değil. Aleti öv...</td>\n",
       "      <td>Olumsuz</td>\n",
       "    </tr>\n",
       "    <tr>\n",
       "      <th>5</th>\n",
       "      <td>Giriş seviyesindeki kullanıcılar için kabul ed...</td>\n",
       "      <td>Tarafsız</td>\n",
       "    </tr>\n",
       "    <tr>\n",
       "      <th>6</th>\n",
       "      <td>kullanisli baya</td>\n",
       "      <td>Olumlu</td>\n",
       "    </tr>\n",
       "    <tr>\n",
       "      <th>7</th>\n",
       "      <td>Dezavantajlar : Pahalı ürün&lt;br /&gt;Merhabalar bu...</td>\n",
       "      <td>Tarafsız</td>\n",
       "    </tr>\n",
       "    <tr>\n",
       "      <th>8</th>\n",
       "      <td>ÜRÜN GÜZEL BU PARALARA BAŞKA BULAMAZSINIZ</td>\n",
       "      <td>Tarafsız</td>\n",
       "    </tr>\n",
       "    <tr>\n",
       "      <th>9</th>\n",
       "      <td>Tasarım ve kalite iyi olmasına rağmen yazma hı...</td>\n",
       "      <td>Tarafsız</td>\n",
       "    </tr>\n",
       "  </tbody>\n",
       "</table>\n",
       "</div>"
      ],
      "text/plain": [
       "                                               Görüş     Durum\n",
       "0  ses kalitesi ve ergonomisi rezalet, sony olduğ...   Olumsuz\n",
       "1                         hizli teslimat tesekkürler  Tarafsız\n",
       "2  ses olayı süper....gece çalıştır sıkıntı yok.....    Olumlu\n",
       "3  geldi bigün kullandık hemen bozoldu hiçtavsiye...   Olumsuz\n",
       "4  Kulaklığın sesi kaliteli falan değil. Aleti öv...   Olumsuz\n",
       "5  Giriş seviyesindeki kullanıcılar için kabul ed...  Tarafsız\n",
       "6                                    kullanisli baya    Olumlu\n",
       "7  Dezavantajlar : Pahalı ürün<br />Merhabalar bu...  Tarafsız\n",
       "8          ÜRÜN GÜZEL BU PARALARA BAŞKA BULAMAZSINIZ  Tarafsız\n",
       "9  Tasarım ve kalite iyi olmasına rağmen yazma hı...  Tarafsız"
      ]
     },
     "execution_count": 3,
     "metadata": {},
     "output_type": "execute_result"
    }
   ],
   "source": [
    "data.head(10)"
   ]
  },
  {
   "cell_type": "code",
   "execution_count": 4,
   "id": "e9a68e9a",
   "metadata": {
    "execution": {
     "iopub.execute_input": "2022-11-12T01:41:00.908228Z",
     "iopub.status.busy": "2022-11-12T01:41:00.907926Z",
     "iopub.status.idle": "2022-11-12T01:41:00.934627Z",
     "shell.execute_reply": "2022-11-12T01:41:00.932959Z"
    },
    "papermill": {
     "duration": 0.042799,
     "end_time": "2022-11-12T01:41:00.936590",
     "exception": false,
     "start_time": "2022-11-12T01:41:00.893791",
     "status": "completed"
    },
    "tags": []
   },
   "outputs": [
    {
     "name": "stdout",
     "output_type": "stream",
     "text": [
      "<class 'pandas.core.frame.DataFrame'>\n",
      "RangeIndex: 11429 entries, 0 to 11428\n",
      "Data columns (total 2 columns):\n",
      " #   Column  Non-Null Count  Dtype \n",
      "---  ------  --------------  ----- \n",
      " 0   Görüş   11426 non-null  object\n",
      " 1   Durum   11429 non-null  object\n",
      "dtypes: object(2)\n",
      "memory usage: 178.7+ KB\n"
     ]
    }
   ],
   "source": [
    "data.info()"
   ]
  },
  {
   "cell_type": "code",
   "execution_count": 5,
   "id": "960d3f40",
   "metadata": {
    "execution": {
     "iopub.execute_input": "2022-11-12T01:41:00.964683Z",
     "iopub.status.busy": "2022-11-12T01:41:00.964371Z",
     "iopub.status.idle": "2022-11-12T01:41:00.973656Z",
     "shell.execute_reply": "2022-11-12T01:41:00.972826Z"
    },
    "papermill": {
     "duration": 0.025447,
     "end_time": "2022-11-12T01:41:00.975578",
     "exception": false,
     "start_time": "2022-11-12T01:41:00.950131",
     "status": "completed"
    },
    "tags": []
   },
   "outputs": [],
   "source": [
    "data = data.dropna()"
   ]
  },
  {
   "cell_type": "code",
   "execution_count": 6,
   "id": "5db04973",
   "metadata": {
    "execution": {
     "iopub.execute_input": "2022-11-12T01:41:01.003160Z",
     "iopub.status.busy": "2022-11-12T01:41:01.002857Z",
     "iopub.status.idle": "2022-11-12T01:41:01.014992Z",
     "shell.execute_reply": "2022-11-12T01:41:01.013984Z"
    },
    "papermill": {
     "duration": 0.028474,
     "end_time": "2022-11-12T01:41:01.017240",
     "exception": false,
     "start_time": "2022-11-12T01:41:00.988766",
     "status": "completed"
    },
    "tags": []
   },
   "outputs": [
    {
     "data": {
      "text/html": [
       "<div>\n",
       "<style scoped>\n",
       "    .dataframe tbody tr th:only-of-type {\n",
       "        vertical-align: middle;\n",
       "    }\n",
       "\n",
       "    .dataframe tbody tr th {\n",
       "        vertical-align: top;\n",
       "    }\n",
       "\n",
       "    .dataframe thead th {\n",
       "        text-align: right;\n",
       "    }\n",
       "</style>\n",
       "<table border=\"1\" class=\"dataframe\">\n",
       "  <thead>\n",
       "    <tr style=\"text-align: right;\">\n",
       "      <th></th>\n",
       "      <th>Görüş</th>\n",
       "      <th>Durum</th>\n",
       "    </tr>\n",
       "  </thead>\n",
       "  <tbody>\n",
       "    <tr>\n",
       "      <th>0</th>\n",
       "      <td>ses kalitesi ve ergonomisi rezalet, sony olduğ...</td>\n",
       "      <td>Olumsuz</td>\n",
       "    </tr>\n",
       "    <tr>\n",
       "      <th>1</th>\n",
       "      <td>hizli teslimat tesekkürler</td>\n",
       "      <td>Tarafsız</td>\n",
       "    </tr>\n",
       "    <tr>\n",
       "      <th>2</th>\n",
       "      <td>ses olayı süper....gece çalıştır sıkıntı yok.....</td>\n",
       "      <td>Olumlu</td>\n",
       "    </tr>\n",
       "    <tr>\n",
       "      <th>3</th>\n",
       "      <td>geldi bigün kullandık hemen bozoldu hiçtavsiye...</td>\n",
       "      <td>Olumsuz</td>\n",
       "    </tr>\n",
       "    <tr>\n",
       "      <th>4</th>\n",
       "      <td>Kulaklığın sesi kaliteli falan değil. Aleti öv...</td>\n",
       "      <td>Olumsuz</td>\n",
       "    </tr>\n",
       "    <tr>\n",
       "      <th>...</th>\n",
       "      <td>...</td>\n",
       "      <td>...</td>\n",
       "    </tr>\n",
       "    <tr>\n",
       "      <th>11424</th>\n",
       "      <td>biraz fazla ısınıyor ama sorumsuz çalışıyor</td>\n",
       "      <td>Tarafsız</td>\n",
       "    </tr>\n",
       "    <tr>\n",
       "      <th>11425</th>\n",
       "      <td>orijinal ürün fakat ambalaj bize ulaşana kadar...</td>\n",
       "      <td>Tarafsız</td>\n",
       "    </tr>\n",
       "    <tr>\n",
       "      <th>11426</th>\n",
       "      <td>bu cihazı 1 yıldır kullanıyorum cihazı çok beğ...</td>\n",
       "      <td>Olumsuz</td>\n",
       "    </tr>\n",
       "    <tr>\n",
       "      <th>11427</th>\n",
       "      <td>Bir sene olmadı ayar düğmesine basıyorum ekran...</td>\n",
       "      <td>Tarafsız</td>\n",
       "    </tr>\n",
       "    <tr>\n",
       "      <th>11428</th>\n",
       "      <td>Urun kaliteli zamaninda tedlimat ve kullanisli...</td>\n",
       "      <td>Olumlu</td>\n",
       "    </tr>\n",
       "  </tbody>\n",
       "</table>\n",
       "<p>11426 rows × 2 columns</p>\n",
       "</div>"
      ],
      "text/plain": [
       "                                                   Görüş     Durum\n",
       "0      ses kalitesi ve ergonomisi rezalet, sony olduğ...   Olumsuz\n",
       "1                             hizli teslimat tesekkürler  Tarafsız\n",
       "2      ses olayı süper....gece çalıştır sıkıntı yok.....    Olumlu\n",
       "3      geldi bigün kullandık hemen bozoldu hiçtavsiye...   Olumsuz\n",
       "4      Kulaklığın sesi kaliteli falan değil. Aleti öv...   Olumsuz\n",
       "...                                                  ...       ...\n",
       "11424        biraz fazla ısınıyor ama sorumsuz çalışıyor  Tarafsız\n",
       "11425  orijinal ürün fakat ambalaj bize ulaşana kadar...  Tarafsız\n",
       "11426  bu cihazı 1 yıldır kullanıyorum cihazı çok beğ...   Olumsuz\n",
       "11427  Bir sene olmadı ayar düğmesine basıyorum ekran...  Tarafsız\n",
       "11428  Urun kaliteli zamaninda tedlimat ve kullanisli...    Olumlu\n",
       "\n",
       "[11426 rows x 2 columns]"
      ]
     },
     "execution_count": 6,
     "metadata": {},
     "output_type": "execute_result"
    }
   ],
   "source": [
    "data"
   ]
  },
  {
   "cell_type": "code",
   "execution_count": 7,
   "id": "ee6bc4d6",
   "metadata": {
    "execution": {
     "iopub.execute_input": "2022-11-12T01:41:01.046014Z",
     "iopub.status.busy": "2022-11-12T01:41:01.045105Z",
     "iopub.status.idle": "2022-11-12T01:41:01.050762Z",
     "shell.execute_reply": "2022-11-12T01:41:01.049938Z"
    },
    "papermill": {
     "duration": 0.022302,
     "end_time": "2022-11-12T01:41:01.052911",
     "exception": false,
     "start_time": "2022-11-12T01:41:01.030609",
     "status": "completed"
    },
    "tags": []
   },
   "outputs": [],
   "source": [
    "data = data.rename({'Görüş': 'Gorus'}, axis=1)"
   ]
  },
  {
   "cell_type": "code",
   "execution_count": 8,
   "id": "8e8c83a9",
   "metadata": {
    "execution": {
     "iopub.execute_input": "2022-11-12T01:41:01.082001Z",
     "iopub.status.busy": "2022-11-12T01:41:01.081156Z",
     "iopub.status.idle": "2022-11-12T01:41:01.090925Z",
     "shell.execute_reply": "2022-11-12T01:41:01.089943Z"
    },
    "papermill": {
     "duration": 0.026168,
     "end_time": "2022-11-12T01:41:01.092928",
     "exception": false,
     "start_time": "2022-11-12T01:41:01.066760",
     "status": "completed"
    },
    "tags": []
   },
   "outputs": [
    {
     "data": {
      "text/html": [
       "<div>\n",
       "<style scoped>\n",
       "    .dataframe tbody tr th:only-of-type {\n",
       "        vertical-align: middle;\n",
       "    }\n",
       "\n",
       "    .dataframe tbody tr th {\n",
       "        vertical-align: top;\n",
       "    }\n",
       "\n",
       "    .dataframe thead th {\n",
       "        text-align: right;\n",
       "    }\n",
       "</style>\n",
       "<table border=\"1\" class=\"dataframe\">\n",
       "  <thead>\n",
       "    <tr style=\"text-align: right;\">\n",
       "      <th></th>\n",
       "      <th>Gorus</th>\n",
       "      <th>Durum</th>\n",
       "    </tr>\n",
       "  </thead>\n",
       "  <tbody>\n",
       "    <tr>\n",
       "      <th>0</th>\n",
       "      <td>ses kalitesi ve ergonomisi rezalet, sony olduğ...</td>\n",
       "      <td>Olumsuz</td>\n",
       "    </tr>\n",
       "    <tr>\n",
       "      <th>1</th>\n",
       "      <td>hizli teslimat tesekkürler</td>\n",
       "      <td>Tarafsız</td>\n",
       "    </tr>\n",
       "    <tr>\n",
       "      <th>2</th>\n",
       "      <td>ses olayı süper....gece çalıştır sıkıntı yok.....</td>\n",
       "      <td>Olumlu</td>\n",
       "    </tr>\n",
       "    <tr>\n",
       "      <th>3</th>\n",
       "      <td>geldi bigün kullandık hemen bozoldu hiçtavsiye...</td>\n",
       "      <td>Olumsuz</td>\n",
       "    </tr>\n",
       "    <tr>\n",
       "      <th>4</th>\n",
       "      <td>Kulaklığın sesi kaliteli falan değil. Aleti öv...</td>\n",
       "      <td>Olumsuz</td>\n",
       "    </tr>\n",
       "  </tbody>\n",
       "</table>\n",
       "</div>"
      ],
      "text/plain": [
       "                                               Gorus     Durum\n",
       "0  ses kalitesi ve ergonomisi rezalet, sony olduğ...   Olumsuz\n",
       "1                         hizli teslimat tesekkürler  Tarafsız\n",
       "2  ses olayı süper....gece çalıştır sıkıntı yok.....    Olumlu\n",
       "3  geldi bigün kullandık hemen bozoldu hiçtavsiye...   Olumsuz\n",
       "4  Kulaklığın sesi kaliteli falan değil. Aleti öv...   Olumsuz"
      ]
     },
     "execution_count": 8,
     "metadata": {},
     "output_type": "execute_result"
    }
   ],
   "source": [
    "data.head()"
   ]
  },
  {
   "cell_type": "code",
   "execution_count": 9,
   "id": "1620720e",
   "metadata": {
    "execution": {
     "iopub.execute_input": "2022-11-12T01:41:01.122818Z",
     "iopub.status.busy": "2022-11-12T01:41:01.121169Z",
     "iopub.status.idle": "2022-11-12T01:41:01.128234Z",
     "shell.execute_reply": "2022-11-12T01:41:01.127319Z"
    },
    "papermill": {
     "duration": 0.023746,
     "end_time": "2022-11-12T01:41:01.130261",
     "exception": false,
     "start_time": "2022-11-12T01:41:01.106515",
     "status": "completed"
    },
    "tags": []
   },
   "outputs": [
    {
     "data": {
      "text/plain": [
       "Index(['Gorus', 'Durum'], dtype='object')"
      ]
     },
     "execution_count": 9,
     "metadata": {},
     "output_type": "execute_result"
    }
   ],
   "source": [
    "data.columns"
   ]
  },
  {
   "cell_type": "code",
   "execution_count": 10,
   "id": "db8cb6de",
   "metadata": {
    "execution": {
     "iopub.execute_input": "2022-11-12T01:41:01.159339Z",
     "iopub.status.busy": "2022-11-12T01:41:01.158481Z",
     "iopub.status.idle": "2022-11-12T01:41:01.166650Z",
     "shell.execute_reply": "2022-11-12T01:41:01.165675Z"
    },
    "papermill": {
     "duration": 0.024693,
     "end_time": "2022-11-12T01:41:01.168612",
     "exception": false,
     "start_time": "2022-11-12T01:41:01.143919",
     "status": "completed"
    },
    "tags": []
   },
   "outputs": [
    {
     "data": {
      "text/plain": [
       "Olumlu      4252\n",
       "Olumsuz     4237\n",
       "Tarafsız    2937\n",
       "Name: Durum, dtype: int64"
      ]
     },
     "execution_count": 10,
     "metadata": {},
     "output_type": "execute_result"
    }
   ],
   "source": [
    "data[\"Durum\"].value_counts()"
   ]
  },
  {
   "cell_type": "code",
   "execution_count": 11,
   "id": "b82aa99a",
   "metadata": {
    "execution": {
     "iopub.execute_input": "2022-11-12T01:41:01.198647Z",
     "iopub.status.busy": "2022-11-12T01:41:01.197664Z",
     "iopub.status.idle": "2022-11-12T01:41:01.417731Z",
     "shell.execute_reply": "2022-11-12T01:41:01.416599Z"
    },
    "papermill": {
     "duration": 0.237595,
     "end_time": "2022-11-12T01:41:01.420317",
     "exception": false,
     "start_time": "2022-11-12T01:41:01.182722",
     "status": "completed"
    },
    "tags": []
   },
   "outputs": [
    {
     "name": "stdout",
     "output_type": "stream",
     "text": [
      "Olumlu      4252\n",
      "Olumsuz     4237\n",
      "Tarafsız    2937\n",
      "Name: Durum, dtype: int64\n"
     ]
    },
    {
     "data": {
      "image/png": "[encoded data removed]",
      "text/plain": [
       "<Figure size 432x288 with 1 Axes>"
      ]
     },
     "metadata": {
      "needs_background": "light"
     },
     "output_type": "display_data"
    }
   ],
   "source": [
    "sns.countplot(data[\"Durum\"])\n",
    "print(data.Durum.value_counts())"
   ]
  },
  {
   "cell_type": "code",
   "execution_count": 12,
   "id": "ef3e62d0",
   "metadata": {
    "execution": {
     "iopub.execute_input": "2022-11-12T01:41:01.450919Z",
     "iopub.status.busy": "2022-11-12T01:41:01.450095Z",
     "iopub.status.idle": "2022-11-12T01:41:01.457490Z",
     "shell.execute_reply": "2022-11-12T01:41:01.456593Z"
    },
    "papermill": {
     "duration": 0.024543,
     "end_time": "2022-11-12T01:41:01.459416",
     "exception": false,
     "start_time": "2022-11-12T01:41:01.434873",
     "status": "completed"
    },
    "tags": []
   },
   "outputs": [],
   "source": [
    "data['Durum'] = data.loc[:, 'Durum'].map({'Olumlu' : 0, 'Olumsuz' : 1 , 'Tarafsız' : 2})"
   ]
  },
  {
   "cell_type": "code",
   "execution_count": 13,
   "id": "d2fffd82",
   "metadata": {
    "execution": {
     "iopub.execute_input": "2022-11-12T01:41:01.489262Z",
     "iopub.status.busy": "2022-11-12T01:41:01.488438Z",
     "iopub.status.idle": "2022-11-12T01:41:01.499390Z",
     "shell.execute_reply": "2022-11-12T01:41:01.498384Z"
    },
    "papermill": {
     "duration": 0.027823,
     "end_time": "2022-11-12T01:41:01.501359",
     "exception": false,
     "start_time": "2022-11-12T01:41:01.473536",
     "status": "completed"
    },
    "tags": []
   },
   "outputs": [
    {
     "data": {
      "text/html": [
       "<div>\n",
       "<style scoped>\n",
       "    .dataframe tbody tr th:only-of-type {\n",
       "        vertical-align: middle;\n",
       "    }\n",
       "\n",
       "    .dataframe tbody tr th {\n",
       "        vertical-align: top;\n",
       "    }\n",
       "\n",
       "    .dataframe thead th {\n",
       "        text-align: right;\n",
       "    }\n",
       "</style>\n",
       "<table border=\"1\" class=\"dataframe\">\n",
       "  <thead>\n",
       "    <tr style=\"text-align: right;\">\n",
       "      <th></th>\n",
       "      <th>Gorus</th>\n",
       "      <th>Durum</th>\n",
       "    </tr>\n",
       "  </thead>\n",
       "  <tbody>\n",
       "    <tr>\n",
       "      <th>0</th>\n",
       "      <td>ses kalitesi ve ergonomisi rezalet, sony olduğ...</td>\n",
       "      <td>1</td>\n",
       "    </tr>\n",
       "    <tr>\n",
       "      <th>1</th>\n",
       "      <td>hizli teslimat tesekkürler</td>\n",
       "      <td>2</td>\n",
       "    </tr>\n",
       "    <tr>\n",
       "      <th>2</th>\n",
       "      <td>ses olayı süper....gece çalıştır sıkıntı yok.....</td>\n",
       "      <td>0</td>\n",
       "    </tr>\n",
       "    <tr>\n",
       "      <th>3</th>\n",
       "      <td>geldi bigün kullandık hemen bozoldu hiçtavsiye...</td>\n",
       "      <td>1</td>\n",
       "    </tr>\n",
       "    <tr>\n",
       "      <th>4</th>\n",
       "      <td>Kulaklığın sesi kaliteli falan değil. Aleti öv...</td>\n",
       "      <td>1</td>\n",
       "    </tr>\n",
       "    <tr>\n",
       "      <th>...</th>\n",
       "      <td>...</td>\n",
       "      <td>...</td>\n",
       "    </tr>\n",
       "    <tr>\n",
       "      <th>11424</th>\n",
       "      <td>biraz fazla ısınıyor ama sorumsuz çalışıyor</td>\n",
       "      <td>2</td>\n",
       "    </tr>\n",
       "    <tr>\n",
       "      <th>11425</th>\n",
       "      <td>orijinal ürün fakat ambalaj bize ulaşana kadar...</td>\n",
       "      <td>2</td>\n",
       "    </tr>\n",
       "    <tr>\n",
       "      <th>11426</th>\n",
       "      <td>bu cihazı 1 yıldır kullanıyorum cihazı çok beğ...</td>\n",
       "      <td>1</td>\n",
       "    </tr>\n",
       "    <tr>\n",
       "      <th>11427</th>\n",
       "      <td>Bir sene olmadı ayar düğmesine basıyorum ekran...</td>\n",
       "      <td>2</td>\n",
       "    </tr>\n",
       "    <tr>\n",
       "      <th>11428</th>\n",
       "      <td>Urun kaliteli zamaninda tedlimat ve kullanisli...</td>\n",
       "      <td>0</td>\n",
       "    </tr>\n",
       "  </tbody>\n",
       "</table>\n",
       "<p>11426 rows × 2 columns</p>\n",
       "</div>"
      ],
      "text/plain": [
       "                                                   Gorus  Durum\n",
       "0      ses kalitesi ve ergonomisi rezalet, sony olduğ...      1\n",
       "1                             hizli teslimat tesekkürler      2\n",
       "2      ses olayı süper....gece çalıştır sıkıntı yok.....      0\n",
       "3      geldi bigün kullandık hemen bozoldu hiçtavsiye...      1\n",
       "4      Kulaklığın sesi kaliteli falan değil. Aleti öv...      1\n",
       "...                                                  ...    ...\n",
       "11424        biraz fazla ısınıyor ama sorumsuz çalışıyor      2\n",
       "11425  orijinal ürün fakat ambalaj bize ulaşana kadar...      2\n",
       "11426  bu cihazı 1 yıldır kullanıyorum cihazı çok beğ...      1\n",
       "11427  Bir sene olmadı ayar düğmesine basıyorum ekran...      2\n",
       "11428  Urun kaliteli zamaninda tedlimat ve kullanisli...      0\n",
       "\n",
       "[11426 rows x 2 columns]"
      ]
     },
     "execution_count": 13,
     "metadata": {},
     "output_type": "execute_result"
    }
   ],
   "source": [
    "data"
   ]
  },
  {
   "cell_type": "code",
   "execution_count": 14,
   "id": "fe37cb8e",
   "metadata": {
    "execution": {
     "iopub.execute_input": "2022-11-12T01:41:01.531374Z",
     "iopub.status.busy": "2022-11-12T01:41:01.530547Z",
     "iopub.status.idle": "2022-11-12T01:41:01.538228Z",
     "shell.execute_reply": "2022-11-12T01:41:01.537297Z"
    },
    "papermill": {
     "duration": 0.024698,
     "end_time": "2022-11-12T01:41:01.540195",
     "exception": false,
     "start_time": "2022-11-12T01:41:01.515497",
     "status": "completed"
    },
    "tags": []
   },
   "outputs": [
    {
     "data": {
      "text/plain": [
       "0        ses kalitesi ve ergonomisi rezalet, sony olduğ...\n",
       "1                               hizli teslimat tesekkürler\n",
       "2        ses olayı süper....gece çalıştır sıkıntı yok.....\n",
       "3        geldi bigün kullandık hemen bozoldu hiçtavsiye...\n",
       "4        Kulaklığın sesi kaliteli falan değil. Aleti öv...\n",
       "                               ...                        \n",
       "11424          biraz fazla ısınıyor ama sorumsuz çalışıyor\n",
       "11425    orijinal ürün fakat ambalaj bize ulaşana kadar...\n",
       "11426    bu cihazı 1 yıldır kullanıyorum cihazı çok beğ...\n",
       "11427    Bir sene olmadı ayar düğmesine basıyorum ekran...\n",
       "11428    Urun kaliteli zamaninda tedlimat ve kullanisli...\n",
       "Name: Gorus, Length: 11426, dtype: object"
      ]
     },
     "execution_count": 14,
     "metadata": {},
     "output_type": "execute_result"
    }
   ],
   "source": [
    "data[\"Gorus\"]"
   ]
  },
  {
   "cell_type": "code",
   "execution_count": 15,
   "id": "1db00f63",
   "metadata": {
    "execution": {
     "iopub.execute_input": "2022-11-12T01:41:01.570603Z",
     "iopub.status.busy": "2022-11-12T01:41:01.569542Z",
     "iopub.status.idle": "2022-11-12T01:41:01.576439Z",
     "shell.execute_reply": "2022-11-12T01:41:01.574974Z"
    },
    "papermill": {
     "duration": 0.024067,
     "end_time": "2022-11-12T01:41:01.578455",
     "exception": false,
     "start_time": "2022-11-12T01:41:01.554388",
     "status": "completed"
    },
    "tags": []
   },
   "outputs": [
    {
     "name": "stdout",
     "output_type": "stream",
     "text": [
      "ses kalitesi ve ergonomisi rezalet, sony olduğu için aldım ama 4'de 1 fiyatına çin replika ürün alsaydım çok çok daha iyiydi, kesinlikle tavsiye etmiyorum.\n",
      "\n",
      "Süpürge arayışınızı bitirmek ve bu konuyu kapatmak için tercihiniz olmalı. Anlatılmaz yaşanır bir temizlik gücü var. Parça ve aksamlar için şimdiden bir şey söylemek zor...Ancak anneme aldık, temizliğini görünce kendi süpürgemden soğudum :) Bundan sonraki süpürge tercihim olacak..\n",
      "\n",
      "bir ay olmadan bozuldu\n",
      "\n"
     ]
    }
   ],
   "source": [
    "print(data[\"Gorus\"][0] + \"\\n\")\n",
    "print(data[\"Gorus\"][4000] + \"\\n\")\n",
    "print(data[\"Gorus\"][4588] + \"\\n\")"
   ]
  },
  {
   "cell_type": "markdown",
   "id": "70f53c73",
   "metadata": {
    "papermill": {
     "duration": 0.013996,
     "end_time": "2022-11-12T01:41:01.606638",
     "exception": false,
     "start_time": "2022-11-12T01:41:01.592642",
     "status": "completed"
    },
    "tags": []
   },
   "source": [
    "# Veri Setini Hazırlama Aşaması <a id = \"2\"></a>\n",
    "[Go Content](#cont)"
   ]
  },
  {
   "cell_type": "code",
   "execution_count": 16,
   "id": "8df632a3",
   "metadata": {
    "execution": {
     "iopub.execute_input": "2022-11-12T01:41:01.637957Z",
     "iopub.status.busy": "2022-11-12T01:41:01.636070Z",
     "iopub.status.idle": "2022-11-12T01:41:01.648771Z",
     "shell.execute_reply": "2022-11-12T01:41:01.647763Z"
    },
    "papermill": {
     "duration": 0.030088,
     "end_time": "2022-11-12T01:41:01.650853",
     "exception": false,
     "start_time": "2022-11-12T01:41:01.620765",
     "status": "completed"
    },
    "tags": []
   },
   "outputs": [
    {
     "data": {
      "text/html": [
       "<div>\n",
       "<style scoped>\n",
       "    .dataframe tbody tr th:only-of-type {\n",
       "        vertical-align: middle;\n",
       "    }\n",
       "\n",
       "    .dataframe tbody tr th {\n",
       "        vertical-align: top;\n",
       "    }\n",
       "\n",
       "    .dataframe thead th {\n",
       "        text-align: right;\n",
       "    }\n",
       "</style>\n",
       "<table border=\"1\" class=\"dataframe\">\n",
       "  <thead>\n",
       "    <tr style=\"text-align: right;\">\n",
       "      <th></th>\n",
       "      <th>Gorus</th>\n",
       "      <th>Durum</th>\n",
       "    </tr>\n",
       "  </thead>\n",
       "  <tbody>\n",
       "    <tr>\n",
       "      <th>0</th>\n",
       "      <td>ses kalitesi ve ergonomisi rezalet, sony olduğ...</td>\n",
       "      <td>1</td>\n",
       "    </tr>\n",
       "    <tr>\n",
       "      <th>1</th>\n",
       "      <td>hizli teslimat tesekkürler</td>\n",
       "      <td>2</td>\n",
       "    </tr>\n",
       "    <tr>\n",
       "      <th>2</th>\n",
       "      <td>ses olayı süper....gece çalıştır sıkıntı yok.....</td>\n",
       "      <td>0</td>\n",
       "    </tr>\n",
       "    <tr>\n",
       "      <th>3</th>\n",
       "      <td>geldi bigün kullandık hemen bozoldu hiçtavsiye...</td>\n",
       "      <td>1</td>\n",
       "    </tr>\n",
       "    <tr>\n",
       "      <th>4</th>\n",
       "      <td>Kulaklığın sesi kaliteli falan değil. Aleti öv...</td>\n",
       "      <td>1</td>\n",
       "    </tr>\n",
       "    <tr>\n",
       "      <th>...</th>\n",
       "      <td>...</td>\n",
       "      <td>...</td>\n",
       "    </tr>\n",
       "    <tr>\n",
       "      <th>11424</th>\n",
       "      <td>biraz fazla ısınıyor ama sorumsuz çalışıyor</td>\n",
       "      <td>2</td>\n",
       "    </tr>\n",
       "    <tr>\n",
       "      <th>11425</th>\n",
       "      <td>orijinal ürün fakat ambalaj bize ulaşana kadar...</td>\n",
       "      <td>2</td>\n",
       "    </tr>\n",
       "    <tr>\n",
       "      <th>11426</th>\n",
       "      <td>bu cihazı 1 yıldır kullanıyorum cihazı çok beğ...</td>\n",
       "      <td>1</td>\n",
       "    </tr>\n",
       "    <tr>\n",
       "      <th>11427</th>\n",
       "      <td>Bir sene olmadı ayar düğmesine basıyorum ekran...</td>\n",
       "      <td>2</td>\n",
       "    </tr>\n",
       "    <tr>\n",
       "      <th>11428</th>\n",
       "      <td>Urun kaliteli zamaninda tedlimat ve kullanisli...</td>\n",
       "      <td>0</td>\n",
       "    </tr>\n",
       "  </tbody>\n",
       "</table>\n",
       "<p>11426 rows × 2 columns</p>\n",
       "</div>"
      ],
      "text/plain": [
       "                                                   Gorus  Durum\n",
       "0      ses kalitesi ve ergonomisi rezalet, sony olduğ...      1\n",
       "1                             hizli teslimat tesekkürler      2\n",
       "2      ses olayı süper....gece çalıştır sıkıntı yok.....      0\n",
       "3      geldi bigün kullandık hemen bozoldu hiçtavsiye...      1\n",
       "4      Kulaklığın sesi kaliteli falan değil. Aleti öv...      1\n",
       "...                                                  ...    ...\n",
       "11424        biraz fazla ısınıyor ama sorumsuz çalışıyor      2\n",
       "11425  orijinal ürün fakat ambalaj bize ulaşana kadar...      2\n",
       "11426  bu cihazı 1 yıldır kullanıyorum cihazı çok beğ...      1\n",
       "11427  Bir sene olmadı ayar düğmesine basıyorum ekran...      2\n",
       "11428  Urun kaliteli zamaninda tedlimat ve kullanisli...      0\n",
       "\n",
       "[11426 rows x 2 columns]"
      ]
     },
     "execution_count": 16,
     "metadata": {},
     "output_type": "execute_result"
    }
   ],
   "source": [
    "data"
   ]
  },
  {
   "cell_type": "code",
   "execution_count": 17,
   "id": "236b467d",
   "metadata": {
    "execution": {
     "iopub.execute_input": "2022-11-12T01:41:01.682037Z",
     "iopub.status.busy": "2022-11-12T01:41:01.681208Z",
     "iopub.status.idle": "2022-11-12T01:41:01.687824Z",
     "shell.execute_reply": "2022-11-12T01:41:01.686822Z"
    },
    "papermill": {
     "duration": 0.02452,
     "end_time": "2022-11-12T01:41:01.690010",
     "exception": false,
     "start_time": "2022-11-12T01:41:01.665490",
     "status": "completed"
    },
    "tags": []
   },
   "outputs": [
    {
     "data": {
      "text/plain": [
       "'ürün az önce elime geçti buradan aldım kargoyu zamanında yolladıkları için teşekkür ediyorum ama ürün hayal kırıklığı çok pişman oldum malzeme kalitesi bana göre iyi değil çekiş gücü süpürdüğünü bile farketmiyorum diyeceğim kadar komşumun 1200w süpürgesi bundan güzel çektiğini söyleyebilirim yorumlara bakarak ürünümün arızalı oldugunu bile düşünüyorum ama yinede tavsiye etmiyorum'"
      ]
     },
     "execution_count": 17,
     "metadata": {},
     "output_type": "execute_result"
    }
   ],
   "source": [
    "data[\"Gorus\"][125]"
   ]
  },
  {
   "cell_type": "code",
   "execution_count": 18,
   "id": "19a6e359",
   "metadata": {
    "execution": {
     "iopub.execute_input": "2022-11-12T01:41:01.720375Z",
     "iopub.status.busy": "2022-11-12T01:41:01.720095Z",
     "iopub.status.idle": "2022-11-12T01:41:01.725075Z",
     "shell.execute_reply": "2022-11-12T01:41:01.724055Z"
    },
    "papermill": {
     "duration": 0.022565,
     "end_time": "2022-11-12T01:41:01.727137",
     "exception": false,
     "start_time": "2022-11-12T01:41:01.704572",
     "status": "completed"
    },
    "tags": []
   },
   "outputs": [],
   "source": [
    "import re\n",
    "cumle0 = data[\"Gorus\"][125]\n",
    "cumle1 = re.sub(\"[^a-zA-Z]\", \" \", cumle0)\n",
    "cumle2 = cumle1.lower()"
   ]
  },
  {
   "cell_type": "code",
   "execution_count": 19,
   "id": "c0ac81bd",
   "metadata": {
    "execution": {
     "iopub.execute_input": "2022-11-12T01:41:01.758938Z",
     "iopub.status.busy": "2022-11-12T01:41:01.758630Z",
     "iopub.status.idle": "2022-11-12T01:41:01.764157Z",
     "shell.execute_reply": "2022-11-12T01:41:01.763236Z"
    },
    "papermill": {
     "duration": 0.023018,
     "end_time": "2022-11-12T01:41:01.766097",
     "exception": false,
     "start_time": "2022-11-12T01:41:01.743079",
     "status": "completed"
    },
    "tags": []
   },
   "outputs": [
    {
     "data": {
      "text/plain": [
       "' r n az  nce elime ge ti buradan ald m kargoyu zaman nda yollad klar  i in te ekk r ediyorum ama  r n hayal k r kl     ok pi man oldum malzeme kalitesi bana g re iyi de il  eki  g c  s p rd   n  bile farketmiyorum diyece im kadar kom umun     w s p rgesi bundan g zel  ekti ini s yleyebilirim yorumlara bakarak  r n m n ar zal  oldugunu bile d   n yorum ama yinede tavsiye etmiyorum'"
      ]
     },
     "execution_count": 19,
     "metadata": {},
     "output_type": "execute_result"
    }
   ],
   "source": [
    "cumle2"
   ]
  },
  {
   "cell_type": "code",
   "execution_count": 20,
   "id": "997f6834",
   "metadata": {
    "execution": {
     "iopub.execute_input": "2022-11-12T01:41:01.819174Z",
     "iopub.status.busy": "2022-11-12T01:41:01.818678Z",
     "iopub.status.idle": "2022-11-12T01:41:01.842472Z",
     "shell.execute_reply": "2022-11-12T01:41:01.840349Z"
    },
    "papermill": {
     "duration": 0.060961,
     "end_time": "2022-11-12T01:41:01.847466",
     "exception": false,
     "start_time": "2022-11-12T01:41:01.786505",
     "status": "completed"
    },
    "tags": []
   },
   "outputs": [
    {
     "data": {
      "text/plain": [
       "'urun az once elime gecti buradan aldim kargoyu zamaninda yolladiklari icin tesekkur ediyorum ama urun hayal kirikligi cok pisman oldum malzeme kalitesi bana gore iyi degil cekis gucu supurdugunu bile farketmiyorum diyecegim kadar komsumun 1200w supurgesi bundan guzel cektigini soyleyebilirim yorumlara bakarak urunumun arizali oldugunu bile dusunuyorum ama yinede tavsiye etmiyorum'"
      ]
     },
     "execution_count": 20,
     "metadata": {},
     "output_type": "execute_result"
    }
   ],
   "source": [
    "listcumle0 = list(cumle0)\n",
    "for i in range(0,len(listcumle0)):\n",
    "    if listcumle0[i] == \"ü\":\n",
    "        listcumle0[i] = \"u\"\n",
    "    elif listcumle0[i] == \"Ü\":\n",
    "        listcumle0[i] = \"U\"\n",
    "    elif listcumle0[i] == \"ö\":\n",
    "        listcumle0[i] = \"o\"\n",
    "    elif listcumle0[i] == \"Ö\":\n",
    "        listcumle0[i] = \"O\"\n",
    "    elif listcumle0[i] == \"İ\":\n",
    "        listcumle0[i] = \"I\"\n",
    "    elif listcumle0[i] == \"ç\":\n",
    "        listcumle0[i] = \"c\"\n",
    "    elif listcumle0[i] == \"Ç\":\n",
    "        listcumle0[i] = \"C\"\n",
    "    elif listcumle0[i] == \"ğ\":\n",
    "        listcumle0[i] = \"g\"\n",
    "    elif listcumle0[i] == \"Ğ\":\n",
    "        listcumle0[i] = \"G\"\n",
    "    elif listcumle0[i] == \"ş\":\n",
    "        listcumle0[i] = \"s\"\n",
    "    elif listcumle0[i] == \"Ş\":\n",
    "        listcumle0[i] = \"S\"\n",
    "    elif listcumle0[i] == \"ı\":\n",
    "        listcumle0[i] = \"i\"\n",
    "str1 = ''.join(listcumle0)\n",
    "str1"
   ]
  },
  {
   "cell_type": "code",
   "execution_count": 21,
   "id": "5e560472",
   "metadata": {
    "execution": {
     "iopub.execute_input": "2022-11-12T01:41:01.919313Z",
     "iopub.status.busy": "2022-11-12T01:41:01.918035Z",
     "iopub.status.idle": "2022-11-12T01:41:01.927876Z",
     "shell.execute_reply": "2022-11-12T01:41:01.926441Z"
    },
    "papermill": {
     "duration": 0.046077,
     "end_time": "2022-11-12T01:41:01.930624",
     "exception": false,
     "start_time": "2022-11-12T01:41:01.884547",
     "status": "completed"
    },
    "tags": []
   },
   "outputs": [
    {
     "data": {
      "text/plain": [
       "'urun az once elime gecti buradan aldim kargoyu zamaninda yolladiklari icin tesekkur ediyorum ama urun hayal kirikligi cok pisman oldum malzeme kalitesi bana gore iyi degil cekis gucu supurdugunu bile farketmiyorum diyecegim kadar komsumun     w supurgesi bundan guzel cektigini soyleyebilirim yorumlara bakarak urunumun arizali oldugunu bile dusunuyorum ama yinede tavsiye etmiyorum'"
      ]
     },
     "execution_count": 21,
     "metadata": {},
     "output_type": "execute_result"
    }
   ],
   "source": [
    "cumle1 = re.sub(\"[^a-zA-Z]\", \" \", str1)\n",
    "cumle2 = cumle1.lower()\n",
    "cumle2"
   ]
  },
  {
   "cell_type": "code",
   "execution_count": 22,
   "id": "e1e81599",
   "metadata": {
    "execution": {
     "iopub.execute_input": "2022-11-12T01:41:01.983671Z",
     "iopub.status.busy": "2022-11-12T01:41:01.983139Z",
     "iopub.status.idle": "2022-11-12T01:41:02.659691Z",
     "shell.execute_reply": "2022-11-12T01:41:02.658692Z"
    },
    "papermill": {
     "duration": 0.705357,
     "end_time": "2022-11-12T01:41:02.662593",
     "exception": false,
     "start_time": "2022-11-12T01:41:01.957236",
     "status": "completed"
    },
    "tags": []
   },
   "outputs": [],
   "source": [
    "import nltk\n",
    "from nltk.corpus import stopwords\n",
    "\n",
    "cumle2 = nltk.word_tokenize(cumle2)\n",
    "cumle2 = [word for word in cumle2 if not word in set(stopwords.words(\"turkish\"))]"
   ]
  },
  {
   "cell_type": "code",
   "execution_count": 23,
   "id": "b9c449a1",
   "metadata": {
    "execution": {
     "iopub.execute_input": "2022-11-12T01:41:02.695638Z",
     "iopub.status.busy": "2022-11-12T01:41:02.694104Z",
     "iopub.status.idle": "2022-11-12T01:41:02.702865Z",
     "shell.execute_reply": "2022-11-12T01:41:02.702027Z"
    },
    "papermill": {
     "duration": 0.026841,
     "end_time": "2022-11-12T01:41:02.704891",
     "exception": false,
     "start_time": "2022-11-12T01:41:02.678050",
     "status": "completed"
    },
    "tags": []
   },
   "outputs": [
    {
     "data": {
      "text/plain": [
       "['urun',\n",
       " 'once',\n",
       " 'elime',\n",
       " 'gecti',\n",
       " 'buradan',\n",
       " 'aldim',\n",
       " 'kargoyu',\n",
       " 'zamaninda',\n",
       " 'yolladiklari',\n",
       " 'icin',\n",
       " 'tesekkur',\n",
       " 'ediyorum',\n",
       " 'urun',\n",
       " 'hayal',\n",
       " 'kirikligi',\n",
       " 'cok',\n",
       " 'pisman',\n",
       " 'oldum',\n",
       " 'malzeme',\n",
       " 'kalitesi',\n",
       " 'bana',\n",
       " 'gore',\n",
       " 'iyi',\n",
       " 'degil',\n",
       " 'cekis',\n",
       " 'gucu',\n",
       " 'supurdugunu',\n",
       " 'bile',\n",
       " 'farketmiyorum',\n",
       " 'diyecegim',\n",
       " 'kadar',\n",
       " 'komsumun',\n",
       " 'w',\n",
       " 'supurgesi',\n",
       " 'bundan',\n",
       " 'guzel',\n",
       " 'cektigini',\n",
       " 'soyleyebilirim',\n",
       " 'yorumlara',\n",
       " 'bakarak',\n",
       " 'urunumun',\n",
       " 'arizali',\n",
       " 'oldugunu',\n",
       " 'bile',\n",
       " 'dusunuyorum',\n",
       " 'yinede',\n",
       " 'tavsiye',\n",
       " 'etmiyorum']"
      ]
     },
     "execution_count": 23,
     "metadata": {},
     "output_type": "execute_result"
    }
   ],
   "source": [
    "cumle2"
   ]
  },
  {
   "cell_type": "code",
   "execution_count": 24,
   "id": "5ab41b1b",
   "metadata": {
    "execution": {
     "iopub.execute_input": "2022-11-12T01:41:02.737850Z",
     "iopub.status.busy": "2022-11-12T01:41:02.736314Z",
     "iopub.status.idle": "2022-11-12T01:41:02.744556Z",
     "shell.execute_reply": "2022-11-12T01:41:02.743705Z"
    },
    "papermill": {
     "duration": 0.026229,
     "end_time": "2022-11-12T01:41:02.746388",
     "exception": false,
     "start_time": "2022-11-12T01:41:02.720159",
     "status": "completed"
    },
    "tags": []
   },
   "outputs": [
    {
     "data": {
      "text/plain": [
       "'urun once elime gecti buradan aldim kargoyu zamaninda yolladiklari icin tesekkur ediyorum urun hayal kirikligi cok pisman oldum malzeme kalitesi bana gore iyi degil cekis gucu supurdugunu bile farketmiyorum diyecegim kadar komsumun w supurgesi bundan guzel cektigini soyleyebilirim yorumlara bakarak urunumun arizali oldugunu bile dusunuyorum yinede tavsiye etmiyorum'"
      ]
     },
     "execution_count": 24,
     "metadata": {},
     "output_type": "execute_result"
    }
   ],
   "source": [
    "cumle3 = \" \".join(cumle2)\n",
    "cumle3"
   ]
  },
  {
   "cell_type": "markdown",
   "id": "ef87d1e1",
   "metadata": {
    "papermill": {
     "duration": 0.014886,
     "end_time": "2022-11-12T01:41:02.776500",
     "exception": false,
     "start_time": "2022-11-12T01:41:02.761614",
     "status": "completed"
    },
    "tags": []
   },
   "source": [
    "# 2. Hazırlık Aşaması <a id = \"3\"></a>\n",
    "[Go Content](#cont)"
   ]
  },
  {
   "cell_type": "code",
   "execution_count": 25,
   "id": "2589ee43",
   "metadata": {
    "execution": {
     "iopub.execute_input": "2022-11-12T01:41:02.809235Z",
     "iopub.status.busy": "2022-11-12T01:41:02.808570Z",
     "iopub.status.idle": "2022-11-12T01:41:02.818809Z",
     "shell.execute_reply": "2022-11-12T01:41:02.817962Z"
    },
    "papermill": {
     "duration": 0.028727,
     "end_time": "2022-11-12T01:41:02.820794",
     "exception": false,
     "start_time": "2022-11-12T01:41:02.792067",
     "status": "completed"
    },
    "tags": []
   },
   "outputs": [],
   "source": [
    "def harfdegistir(cumle):\n",
    "    listcumle0 = list(cumle)\n",
    "    for i in range(0,len(listcumle0)):\n",
    "        if listcumle0[i] == \"ü\":\n",
    "            listcumle0[i] = \"u\"\n",
    "        elif listcumle0[i] == \"Ü\":\n",
    "            listcumle0[i] = \"U\"\n",
    "        elif listcumle0[i] == \"ö\":\n",
    "            listcumle0[i] = \"o\"\n",
    "        elif listcumle0[i] == \"Ö\":\n",
    "            listcumle0[i] = \"O\"\n",
    "        elif listcumle0[i] == \"İ\":\n",
    "            listcumle0[i] = \"I\"\n",
    "        elif listcumle0[i] == \"ç\":\n",
    "            listcumle0[i] = \"c\"\n",
    "        elif listcumle0[i] == \"Ç\":\n",
    "            listcumle0[i] = \"C\"\n",
    "        elif listcumle0[i] == \"ğ\":\n",
    "            listcumle0[i] = \"g\"\n",
    "        elif listcumle0[i] == \"Ğ\":\n",
    "            listcumle0[i] = \"G\"\n",
    "        elif listcumle0[i] == \"ş\":\n",
    "            listcumle0[i] = \"s\"\n",
    "        elif listcumle0[i] == \"Ş\":\n",
    "            listcumle0[i] = \"S\"\n",
    "        elif listcumle0[i] == \"ı\":\n",
    "            listcumle0[i] = \"i\"\n",
    "        \n",
    "    cumle0 = ''.join(listcumle0)\n",
    "    \n",
    "    cumle1 = re.sub(\"[^a-zA-Z]\", \" \", cumle0)\n",
    "    cumle2 = cumle1.lower()\n",
    "    \n",
    "    cumle2 = nltk.word_tokenize(cumle2)\n",
    "    cumle2 = [word for word in cumle2 if not word in set(stopwords.words(\"turkish\"))]\n",
    "    \n",
    "    cumle3 = \" \".join(cumle2)\n",
    "    \n",
    "    return cumle3"
   ]
  },
  {
   "cell_type": "code",
   "execution_count": 26,
   "id": "d139c5a3",
   "metadata": {
    "execution": {
     "iopub.execute_input": "2022-11-12T01:41:02.853144Z",
     "iopub.status.busy": "2022-11-12T01:41:02.852811Z",
     "iopub.status.idle": "2022-11-12T01:41:02.860490Z",
     "shell.execute_reply": "2022-11-12T01:41:02.859580Z"
    },
    "papermill": {
     "duration": 0.026209,
     "end_time": "2022-11-12T01:41:02.862450",
     "exception": false,
     "start_time": "2022-11-12T01:41:02.836241",
     "status": "completed"
    },
    "tags": []
   },
   "outputs": [
    {
     "data": {
      "text/plain": [
       "0        ses kalitesi ve ergonomisi rezalet, sony olduğ...\n",
       "1                               hizli teslimat tesekkürler\n",
       "2        ses olayı süper....gece çalıştır sıkıntı yok.....\n",
       "3        geldi bigün kullandık hemen bozoldu hiçtavsiye...\n",
       "4        Kulaklığın sesi kaliteli falan değil. Aleti öv...\n",
       "                               ...                        \n",
       "11424          biraz fazla ısınıyor ama sorumsuz çalışıyor\n",
       "11425    orijinal ürün fakat ambalaj bize ulaşana kadar...\n",
       "11426    bu cihazı 1 yıldır kullanıyorum cihazı çok beğ...\n",
       "11427    Bir sene olmadı ayar düğmesine basıyorum ekran...\n",
       "11428    Urun kaliteli zamaninda tedlimat ve kullanisli...\n",
       "Name: Gorus, Length: 11426, dtype: object"
      ]
     },
     "execution_count": 26,
     "metadata": {},
     "output_type": "execute_result"
    }
   ],
   "source": [
    "data[\"Gorus\"]"
   ]
  },
  {
   "cell_type": "code",
   "execution_count": 27,
   "id": "8c7210a4",
   "metadata": {
    "execution": {
     "iopub.execute_input": "2022-11-12T01:41:02.895113Z",
     "iopub.status.busy": "2022-11-12T01:41:02.894760Z",
     "iopub.status.idle": "2022-11-12T01:41:02.899891Z",
     "shell.execute_reply": "2022-11-12T01:41:02.898964Z"
    },
    "papermill": {
     "duration": 0.024519,
     "end_time": "2022-11-12T01:41:02.902415",
     "exception": false,
     "start_time": "2022-11-12T01:41:02.877896",
     "status": "completed"
    },
    "tags": []
   },
   "outputs": [
    {
     "name": "stdout",
     "output_type": "stream",
     "text": [
      "Veri setinin uzunluğu:  11426\n"
     ]
    }
   ],
   "source": [
    "print(\"Veri setinin uzunluğu: \",len(data[\"Gorus\"]))"
   ]
  },
  {
   "cell_type": "code",
   "execution_count": 28,
   "id": "b2f42e51",
   "metadata": {
    "execution": {
     "iopub.execute_input": "2022-11-12T01:41:02.935217Z",
     "iopub.status.busy": "2022-11-12T01:41:02.934936Z",
     "iopub.status.idle": "2022-11-12T01:41:02.939741Z",
     "shell.execute_reply": "2022-11-12T01:41:02.938839Z"
    },
    "papermill": {
     "duration": 0.023599,
     "end_time": "2022-11-12T01:41:02.942432",
     "exception": false,
     "start_time": "2022-11-12T01:41:02.918833",
     "status": "completed"
    },
    "tags": []
   },
   "outputs": [
    {
     "name": "stdout",
     "output_type": "stream",
     "text": [
      "Veri Setinin Uzunluğu:  11426\n"
     ]
    }
   ],
   "source": [
    "X = data[\"Gorus\"].values\n",
    "print(\"Veri Setinin Uzunluğu: \",len(X))"
   ]
  },
  {
   "cell_type": "code",
   "execution_count": 29,
   "id": "746d9749",
   "metadata": {
    "execution": {
     "iopub.execute_input": "2022-11-12T01:41:02.975499Z",
     "iopub.status.busy": "2022-11-12T01:41:02.974709Z",
     "iopub.status.idle": "2022-11-12T01:41:02.980722Z",
     "shell.execute_reply": "2022-11-12T01:41:02.979696Z"
    },
    "papermill": {
     "duration": 0.024084,
     "end_time": "2022-11-12T01:41:02.982839",
     "exception": false,
     "start_time": "2022-11-12T01:41:02.958755",
     "status": "completed"
    },
    "tags": []
   },
   "outputs": [
    {
     "data": {
      "text/plain": [
       "'ürün az önce elime geçti buradan aldım kargoyu zamanında yolladıkları için teşekkür ediyorum ama ürün hayal kırıklığı çok pişman oldum malzeme kalitesi bana göre iyi değil çekiş gücü süpürdüğünü bile farketmiyorum diyeceğim kadar komşumun 1200w süpürgesi bundan güzel çektiğini söyleyebilirim yorumlara bakarak ürünümün arızalı oldugunu bile düşünüyorum ama yinede tavsiye etmiyorum'"
      ]
     },
     "execution_count": 29,
     "metadata": {},
     "output_type": "execute_result"
    }
   ],
   "source": [
    "X[125]"
   ]
  },
  {
   "cell_type": "code",
   "execution_count": 30,
   "id": "b96460ac",
   "metadata": {
    "execution": {
     "iopub.execute_input": "2022-11-12T01:41:03.015331Z",
     "iopub.status.busy": "2022-11-12T01:41:03.014565Z",
     "iopub.status.idle": "2022-11-12T01:41:25.775710Z",
     "shell.execute_reply": "2022-11-12T01:41:25.774730Z"
    },
    "papermill": {
     "duration": 22.780266,
     "end_time": "2022-11-12T01:41:25.778445",
     "exception": false,
     "start_time": "2022-11-12T01:41:02.998179",
     "status": "completed"
    },
    "tags": []
   },
   "outputs": [],
   "source": [
    "SonGorus = []\n",
    "\n",
    "for i in range(len(X)):\n",
    "    X_ = harfdegistir(X[i])\n",
    "    SonGorus.append(X_)"
   ]
  },
  {
   "cell_type": "code",
   "execution_count": 31,
   "id": "ddbe403e",
   "metadata": {
    "execution": {
     "iopub.execute_input": "2022-11-12T01:41:25.811133Z",
     "iopub.status.busy": "2022-11-12T01:41:25.810822Z",
     "iopub.status.idle": "2022-11-12T01:41:25.816562Z",
     "shell.execute_reply": "2022-11-12T01:41:25.815636Z"
    },
    "papermill": {
     "duration": 0.024123,
     "end_time": "2022-11-12T01:41:25.818465",
     "exception": false,
     "start_time": "2022-11-12T01:41:25.794342",
     "status": "completed"
    },
    "tags": []
   },
   "outputs": [
    {
     "data": {
      "text/plain": [
       "'urun once elime gecti buradan aldim kargoyu zamaninda yolladiklari icin tesekkur ediyorum urun hayal kirikligi cok pisman oldum malzeme kalitesi bana gore iyi degil cekis gucu supurdugunu bile farketmiyorum diyecegim kadar komsumun w supurgesi bundan guzel cektigini soyleyebilirim yorumlara bakarak urunumun arizali oldugunu bile dusunuyorum yinede tavsiye etmiyorum'"
      ]
     },
     "execution_count": 31,
     "metadata": {},
     "output_type": "execute_result"
    }
   ],
   "source": [
    "SonGorus[125]"
   ]
  },
  {
   "cell_type": "code",
   "execution_count": 32,
   "id": "0953fcb7",
   "metadata": {
    "execution": {
     "iopub.execute_input": "2022-11-12T01:41:25.850465Z",
     "iopub.status.busy": "2022-11-12T01:41:25.850200Z",
     "iopub.status.idle": "2022-11-12T01:41:25.855224Z",
     "shell.execute_reply": "2022-11-12T01:41:25.854311Z"
    },
    "papermill": {
     "duration": 0.02422,
     "end_time": "2022-11-12T01:41:25.857988",
     "exception": false,
     "start_time": "2022-11-12T01:41:25.833768",
     "status": "completed"
    },
    "tags": []
   },
   "outputs": [
    {
     "name": "stdout",
     "output_type": "stream",
     "text": [
      "ses kalitesi ergonomisi rezalet sony oldugu icin aldim fiyatina cin replika urun alsaydim cok cok iyiydi kesinlikle tavsiye etmiyorum\n",
      "\n",
      "guzel kullanisli utu\n",
      "\n",
      "fiyatina gore cok cok uygun harika\n",
      "\n"
     ]
    }
   ],
   "source": [
    "print(SonGorus[0] + \"\\n\")\n",
    "print(SonGorus[4588] + \"\\n\")\n",
    "print(SonGorus[4000] + \"\\n\")"
   ]
  },
  {
   "cell_type": "code",
   "execution_count": 33,
   "id": "855ddb54",
   "metadata": {
    "execution": {
     "iopub.execute_input": "2022-11-12T01:41:25.891322Z",
     "iopub.status.busy": "2022-11-12T01:41:25.891060Z",
     "iopub.status.idle": "2022-11-12T01:41:26.253659Z",
     "shell.execute_reply": "2022-11-12T01:41:26.252329Z"
    },
    "papermill": {
     "duration": 0.382173,
     "end_time": "2022-11-12T01:41:26.256468",
     "exception": false,
     "start_time": "2022-11-12T01:41:25.874295",
     "status": "completed"
    },
    "tags": []
   },
   "outputs": [
    {
     "name": "stdout",
     "output_type": "stream",
     "text": [
      "En sık kullanılan 2000 kelimeler ['ac' 'acayip' 'acidan' ... 'zeminde' 'zor' 'zorunda']\n"
     ]
    }
   ],
   "source": [
    "from sklearn.feature_extraction.text import CountVectorizer\n",
    "max_feature = 2000\n",
    "\n",
    "cv = CountVectorizer(max_features = max_feature, stop_words = stopwords.words(\"turkish\"))\n",
    "\n",
    "space_matrix = cv.fit_transform(SonGorus).toarray() # x\n",
    "\n",
    "print(\"En sık kullanılan {} kelimeler {}\".format(max_feature, cv.get_feature_names_out()))"
   ]
  },
  {
   "cell_type": "code",
   "execution_count": 34,
   "id": "906cbcd2",
   "metadata": {
    "execution": {
     "iopub.execute_input": "2022-11-12T01:41:26.291318Z",
     "iopub.status.busy": "2022-11-12T01:41:26.291007Z",
     "iopub.status.idle": "2022-11-12T01:41:28.150210Z",
     "shell.execute_reply": "2022-11-12T01:41:28.149357Z"
    },
    "papermill": {
     "duration": 1.882986,
     "end_time": "2022-11-12T01:41:28.156402",
     "exception": false,
     "start_time": "2022-11-12T01:41:26.273416",
     "status": "completed"
    },
    "tags": []
   },
   "outputs": [
    {
     "data": {
      "image/png": "[encoded data removed]",
      "text/plain": [
       "<Figure size 864x864 with 1 Axes>"
      ]
     },
     "metadata": {
      "needs_background": "light"
     },
     "output_type": "display_data"
    }
   ],
   "source": [
    "from wordcloud import WordCloud\n",
    "\n",
    "encokkullanilanlar = cv.get_feature_names_out()\n",
    "\n",
    "plt.subplots(figsize=(12,12))\n",
    "wordcloud=WordCloud(background_color=\"white\",width=1024,height=768).generate(\" \".join(list(encokkullanilanlar)))\n",
    "plt.imshow(wordcloud)\n",
    "plt.axis(\"off\")\n",
    "plt.show()"
   ]
  },
  {
   "cell_type": "code",
   "execution_count": 35,
   "id": "244a819f",
   "metadata": {
    "execution": {
     "iopub.execute_input": "2022-11-12T01:41:28.200579Z",
     "iopub.status.busy": "2022-11-12T01:41:28.200228Z",
     "iopub.status.idle": "2022-11-12T01:41:28.205146Z",
     "shell.execute_reply": "2022-11-12T01:41:28.204146Z"
    },
    "papermill": {
     "duration": 0.029208,
     "end_time": "2022-11-12T01:41:28.207222",
     "exception": false,
     "start_time": "2022-11-12T01:41:28.178014",
     "status": "completed"
    },
    "tags": []
   },
   "outputs": [],
   "source": [
    "X = space_matrix\n",
    "y = data.iloc[:,1].values"
   ]
  },
  {
   "cell_type": "code",
   "execution_count": 36,
   "id": "26ae1473",
   "metadata": {
    "execution": {
     "iopub.execute_input": "2022-11-12T01:41:28.252165Z",
     "iopub.status.busy": "2022-11-12T01:41:28.250227Z",
     "iopub.status.idle": "2022-11-12T01:41:28.320423Z",
     "shell.execute_reply": "2022-11-12T01:41:28.319430Z"
    },
    "papermill": {
     "duration": 0.094928,
     "end_time": "2022-11-12T01:41:28.322874",
     "exception": false,
     "start_time": "2022-11-12T01:41:28.227946",
     "status": "completed"
    },
    "tags": []
   },
   "outputs": [],
   "source": [
    "from sklearn.model_selection import train_test_split, cross_val_score\n",
    "\n",
    "x_train, x_test, y_train, y_test = train_test_split(X,y, test_size = 0.25, random_state = 0)"
   ]
  },
  {
   "cell_type": "markdown",
   "id": "20ea3a08",
   "metadata": {
    "papermill": {
     "duration": 0.020323,
     "end_time": "2022-11-12T01:41:28.364113",
     "exception": false,
     "start_time": "2022-11-12T01:41:28.343790",
     "status": "completed"
    },
    "tags": []
   },
   "source": [
    "# Makine Öğrenim Modelleri <a id=\"möm\"></a>\n",
    "[Go Content](#cont)"
   ]
  },
  {
   "cell_type": "code",
   "execution_count": 37,
   "id": "02271bb0",
   "metadata": {
    "execution": {
     "iopub.execute_input": "2022-11-12T01:41:28.406995Z",
     "iopub.status.busy": "2022-11-12T01:41:28.406140Z",
     "iopub.status.idle": "2022-11-12T01:41:28.523351Z",
     "shell.execute_reply": "2022-11-12T01:41:28.522434Z"
    },
    "papermill": {
     "duration": 0.141262,
     "end_time": "2022-11-12T01:41:28.525684",
     "exception": false,
     "start_time": "2022-11-12T01:41:28.384422",
     "status": "completed"
    },
    "tags": []
   },
   "outputs": [],
   "source": [
    "# Makine Öğrenimi Alanında Kullancağım Kütüphanelerim\n",
    "\n",
    "from sklearn.naive_bayes import GaussianNB\n",
    "from sklearn.naive_bayes import BernoulliNB\n",
    "from sklearn.naive_bayes import MultinomialNB\n",
    "from sklearn.svm import SVC\n",
    "from sklearn.model_selection import GridSearchCV\n",
    "from sklearn.linear_model import LogisticRegression\n",
    "from sklearn.neighbors import KNeighborsClassifier\n",
    "from sklearn.tree import DecisionTreeClassifier\n",
    "from sklearn.ensemble import RandomForestClassifier\n",
    "from sklearn.metrics import accuracy_score, confusion_matrix"
   ]
  },
  {
   "cell_type": "markdown",
   "id": "ccb46974",
   "metadata": {
    "papermill": {
     "duration": 0.020269,
     "end_time": "2022-11-12T01:41:28.566726",
     "exception": false,
     "start_time": "2022-11-12T01:41:28.546457",
     "status": "completed"
    },
    "tags": []
   },
   "source": [
    "## Naive Bayes Classification <a id = \"4\"></a>\n",
    "[Go Content](#cont)"
   ]
  },
  {
   "cell_type": "code",
   "execution_count": 38,
   "id": "1531fad8",
   "metadata": {
    "execution": {
     "iopub.execute_input": "2022-11-12T01:41:28.609449Z",
     "iopub.status.busy": "2022-11-12T01:41:28.609084Z",
     "iopub.status.idle": "2022-11-12T01:41:30.996957Z",
     "shell.execute_reply": "2022-11-12T01:41:30.995860Z"
    },
    "papermill": {
     "duration": 2.413184,
     "end_time": "2022-11-12T01:41:31.000523",
     "exception": false,
     "start_time": "2022-11-12T01:41:28.587339",
     "status": "completed"
    },
    "tags": []
   },
   "outputs": [
    {
     "name": "stdout",
     "output_type": "stream",
     "text": [
      "GaussianNB Accuracy:  0.5456772838641932\n",
      "GaussianNB Test Score:  0.5456772838641932\n",
      "GaussianNB Train Score:  0.6286614540786556\n",
      "GaussianNB Cross Validation Mean:  0.5406695044620689\n",
      "GaussianNB Cross Validation Std:  0.003189285110471602\n"
     ]
    }
   ],
   "source": [
    "gnb = GaussianNB()\n",
    "gnb.fit(x_train,y_train)\n",
    "y_pred = gnb.predict(x_test)\n",
    "\n",
    "gnb_csv = cross_val_score(estimator = gnb, X= x_train, y = y_train, cv = 5)\n",
    "\n",
    "\n",
    "print(\"GaussianNB Accuracy: \", accuracy_score(y_pred,y_test))\n",
    "\n",
    "print(\"GaussianNB Test Score: \", gnb.score(x_test, y_test))\n",
    "print(\"GaussianNB Train Score: \", gnb.score(x_train, y_train))\n",
    "\n",
    "print(\"GaussianNB Cross Validation Mean: \", gnb_csv.mean())\n",
    "print(\"GaussianNB Cross Validation Std: \", gnb_csv.std())"
   ]
  },
  {
   "cell_type": "code",
   "execution_count": 39,
   "id": "dd65a01b",
   "metadata": {
    "execution": {
     "iopub.execute_input": "2022-11-12T01:41:31.046934Z",
     "iopub.status.busy": "2022-11-12T01:41:31.046563Z",
     "iopub.status.idle": "2022-11-12T01:41:33.453945Z",
     "shell.execute_reply": "2022-11-12T01:41:33.449900Z"
    },
    "papermill": {
     "duration": 2.435176,
     "end_time": "2022-11-12T01:41:33.457941",
     "exception": false,
     "start_time": "2022-11-12T01:41:31.022765",
     "status": "completed"
    },
    "tags": []
   },
   "outputs": [
    {
     "name": "stdout",
     "output_type": "stream",
     "text": [
      "BernoulliNB Accuracy:  0.6625831291564578\n",
      "BernoulliNB Test Score:  0.6625831291564578\n",
      "BernoulliNB Train Score:  0.7142023573345782\n",
      "BernoulliNB Cross Validation Mean:  0.6653052605479003\n",
      "BernoulliNB Cross Validation Std:  0.006539737096117522\n"
     ]
    }
   ],
   "source": [
    "bnb= BernoulliNB()\n",
    "bnb.fit(x_train,y_train)\n",
    "y_pred_bnb=bnb.predict(x_test)\n",
    "\n",
    "bnb_cvs = cross_val_score(estimator=bnb, X = x_train, y = y_train, cv = 5)\n",
    "\n",
    "print(\"BernoulliNB Accuracy: \", accuracy_score(y_pred_bnb,y_test))\n",
    "\n",
    "print(\"BernoulliNB Test Score: \", bnb.score(x_test, y_test))\n",
    "print(\"BernoulliNB Train Score: \", bnb.score(x_train, y_train))\n",
    "\n",
    "print(\"BernoulliNB Cross Validation Mean: \", bnb_cvs.mean())\n",
    "print(\"BernoulliNB Cross Validation Std: \", bnb_cvs.std())"
   ]
  },
  {
   "cell_type": "code",
   "execution_count": 40,
   "id": "e2c84dfc",
   "metadata": {
    "execution": {
     "iopub.execute_input": "2022-11-12T01:41:33.568529Z",
     "iopub.status.busy": "2022-11-12T01:41:33.567934Z",
     "iopub.status.idle": "2022-11-12T01:41:35.345678Z",
     "shell.execute_reply": "2022-11-12T01:41:35.344769Z"
    },
    "papermill": {
     "duration": 1.836517,
     "end_time": "2022-11-12T01:41:35.348976",
     "exception": false,
     "start_time": "2022-11-12T01:41:33.512459",
     "status": "completed"
    },
    "tags": []
   },
   "outputs": [
    {
     "name": "stdout",
     "output_type": "stream",
     "text": [
      "MultinomialNB Accuracy:  0.6972348617430871\n",
      "MultinomialNB Test Score:  0.6972348617430871\n",
      "MultinomialNB Train Score:  0.7620492472867313\n",
      "MultinomialNB Cross Validation Mean:  0.7109342314008942\n",
      "MultinomialNB Cross Validation Std:  0.005433942546477297\n"
     ]
    }
   ],
   "source": [
    "mnb = MultinomialNB()\n",
    "\n",
    "mnb.fit(x_train,y_train)\n",
    "\n",
    "y_pred_mnb = mnb.predict(x_test)\n",
    "\n",
    "mnb_cvs = cross_val_score(estimator=mnb, X = x_train, y = y_train, cv = 5)\n",
    "\n",
    "print(\"MultinomialNB Accuracy: \", accuracy_score(y_pred_mnb, y_test))\n",
    "\n",
    "print(\"MultinomialNB Test Score: \", mnb.score(x_test, y_test))\n",
    "print(\"MultinomialNB Train Score: \", mnb.score(x_train, y_train))\n",
    "\n",
    "print(\"MultinomialNB Cross Validation Mean: \", mnb_cvs.mean())\n",
    "print(\"MultinomialNB Cross Validation Std: \", mnb_cvs.std())"
   ]
  },
  {
   "cell_type": "markdown",
   "id": "54b6d7ca",
   "metadata": {
    "papermill": {
     "duration": 0.039956,
     "end_time": "2022-11-12T01:41:35.502677",
     "exception": false,
     "start_time": "2022-11-12T01:41:35.462721",
     "status": "completed"
    },
    "tags": []
   },
   "source": [
    "## Support Vector Machine Classification <a id = \"5\"></a>\n",
    "[Go Content](#cont)"
   ]
  },
  {
   "cell_type": "code",
   "execution_count": 41,
   "id": "5dd6c6da",
   "metadata": {
    "execution": {
     "iopub.execute_input": "2022-11-12T01:41:35.555911Z",
     "iopub.status.busy": "2022-11-12T01:41:35.555529Z",
     "iopub.status.idle": "2022-11-12T01:52:13.268206Z",
     "shell.execute_reply": "2022-11-12T01:52:13.266910Z"
    },
    "papermill": {
     "duration": 637.768422,
     "end_time": "2022-11-12T01:52:13.301867",
     "exception": false,
     "start_time": "2022-11-12T01:41:35.533445",
     "status": "completed"
    },
    "tags": []
   },
   "outputs": [
    {
     "name": "stdout",
     "output_type": "stream",
     "text": [
      "Rbf ile SVC Accuracy:  0.6853342667133356\n",
      "Rbf ile SVC Test accuracy: 0.6853342667133356\n",
      "Rbf ile SVC Train accuracy: 0.8695297000816898\n",
      "Rbf ile SVC Cross Validation Mean:  0.6870105807671585\n",
      "Rbf ile SVC Cross Validation Std:  0.004207592051120965\n"
     ]
    }
   ],
   "source": [
    "svc = SVC(random_state = 1, kernel = \"rbf\")\n",
    "svc.fit(x_train, y_train)\n",
    "\n",
    "y_pred_svc = svc.predict(x_test)\n",
    "\n",
    "svc_cvs = cross_val_score(estimator= svc, X = x_train, y = y_train, cv = 5)\n",
    "\n",
    "print(\"Rbf ile SVC Accuracy: \", accuracy_score(y_pred_svc, y_test))\n",
    "\n",
    "print(\"Rbf ile SVC Test accuracy: {}\".format(svc.score(x_test,y_test)))\n",
    "print(\"Rbf ile SVC Train accuracy: {}\".format(svc.score(x_train, y_train)))\n",
    "\n",
    "print(\"Rbf ile SVC Cross Validation Mean: \", svc_cvs.mean())\n",
    "print(\"Rbf ile SVC Cross Validation Std: \", svc_cvs.std())"
   ]
  },
  {
   "cell_type": "code",
   "execution_count": 42,
   "id": "7af9ac30",
   "metadata": {
    "execution": {
     "iopub.execute_input": "2022-11-12T01:52:13.372091Z",
     "iopub.status.busy": "2022-11-12T01:52:13.371503Z",
     "iopub.status.idle": "2022-11-12T01:58:57.818672Z",
     "shell.execute_reply": "2022-11-12T01:58:57.817638Z"
    },
    "papermill": {
     "duration": 404.506112,
     "end_time": "2022-11-12T01:58:57.843015",
     "exception": false,
     "start_time": "2022-11-12T01:52:13.336903",
     "status": "completed"
    },
    "tags": []
   },
   "outputs": [
    {
     "name": "stdout",
     "output_type": "stream",
     "text": [
      "linear ile SVC Accuracy:  0.6853342667133356\n",
      "linear ile SVC Test accuracy 0.6762338116905845\n",
      "linear ile SVC Train accuracy 0.8759481853191737\n",
      "linear ile SVC Cross Validation Mean:  0.6870105807671585\n",
      "linear ile SVC Cross Validation Std:  0.004207592051120965\n"
     ]
    }
   ],
   "source": [
    "svc2 = SVC(random_state = 1, kernel = \"linear\")\n",
    "svc2.fit(x_train, y_train)\n",
    "\n",
    "y_pred_svc2 = svc.predict(x_test)\n",
    "\n",
    "svc_cvs2 = cross_val_score(estimator= svc2, X = x_train, y = y_train, cv = 5)\n",
    "\n",
    "print(\"linear ile SVC Accuracy: \", accuracy_score(y_pred_svc2, y_test))\n",
    "\n",
    "print(\"linear ile SVC Test accuracy {}\".format(svc2.score(x_test,y_test)))\n",
    "print(\"linear ile SVC Train accuracy {}\".format(svc2.score(x_train, y_train)))\n",
    "\n",
    "print(\"linear ile SVC Cross Validation Mean: \", svc_cvs.mean())\n",
    "print(\"linear ile SVC Cross Validation Std: \", svc_cvs.std())"
   ]
  },
  {
   "cell_type": "code",
   "execution_count": 43,
   "id": "4ae21af2",
   "metadata": {
    "execution": {
     "iopub.execute_input": "2022-11-12T01:58:57.887296Z",
     "iopub.status.busy": "2022-11-12T01:58:57.886978Z",
     "iopub.status.idle": "2022-11-12T02:10:28.802415Z",
     "shell.execute_reply": "2022-11-12T02:10:28.800765Z"
    },
    "papermill": {
     "duration": 690.961338,
     "end_time": "2022-11-12T02:10:28.826348",
     "exception": false,
     "start_time": "2022-11-12T01:58:57.865010",
     "status": "completed"
    },
    "tags": []
   },
   "outputs": [
    {
     "name": "stdout",
     "output_type": "stream",
     "text": [
      "Poly ile SVC Accuracy:  0.6853342667133356\n",
      "Poly ile SVC Test accuracy 0.5848792439621981\n",
      "Poly ile SVC Train accuracy 0.7839887968257673\n",
      "Poly ile SVC Cross Validation Mean:  0.5522199993051965\n",
      "Poly ile SVC Cross Validation Std:  0.024281738731952416\n"
     ]
    }
   ],
   "source": [
    "svc3 = SVC(random_state = 1, kernel = \"poly\")\n",
    "svc3.fit(x_train, y_train)\n",
    "\n",
    "y_pred_svc3 = svc.predict(x_test)\n",
    "\n",
    "svc_cvs3 = cross_val_score(estimator= svc3, X = x_train, y = y_train, cv = 5)\n",
    "\n",
    "print(\"Poly ile SVC Accuracy: \", accuracy_score(y_pred_svc3, y_test))\n",
    "\n",
    "print(\"Poly ile SVC Test accuracy {}\".format(svc3.score(x_test,y_test)))\n",
    "print(\"Poly ile SVC Train accuracy {}\".format(svc3.score(x_train, y_train)))\n",
    "\n",
    "print(\"Poly ile SVC Cross Validation Mean: \", svc_cvs3.mean())\n",
    "print(\"Poly ile SVC Cross Validation Std: \", svc_cvs3.std())"
   ]
  },
  {
   "cell_type": "code",
   "execution_count": 44,
   "id": "73f20caf",
   "metadata": {
    "execution": {
     "iopub.execute_input": "2022-11-12T02:10:28.870505Z",
     "iopub.status.busy": "2022-11-12T02:10:28.870153Z",
     "iopub.status.idle": "2022-11-12T02:17:04.252182Z",
     "shell.execute_reply": "2022-11-12T02:17:04.251182Z"
    },
    "papermill": {
     "duration": 395.428667,
     "end_time": "2022-11-12T02:17:04.276237",
     "exception": false,
     "start_time": "2022-11-12T02:10:28.847570",
     "status": "completed"
    },
    "tags": []
   },
   "outputs": [
    {
     "name": "stdout",
     "output_type": "stream",
     "text": [
      "Sigmoid ile SVC Accuracy:  0.6853342667133356\n",
      "Sigmoid ile SVC Test accuracy 0.5950297514875744\n",
      "Sigmoid ile SVC Train accuracy 0.6487338079122418\n",
      "Sigmoid ile SVC Cross Validation Mean:  0.6292455047236419\n",
      "Sigmoid ile SVC Cross Validation Std:  0.010780552896806215\n"
     ]
    }
   ],
   "source": [
    "svc4 = SVC(random_state = 1, kernel = \"sigmoid\")\n",
    "svc4.fit(x_train, y_train)\n",
    "\n",
    "y_pred_svc4 = svc.predict(x_test)\n",
    "\n",
    "svc_cvs4 = cross_val_score(estimator= svc4, X = x_train, y = y_train, cv = 5)\n",
    "\n",
    "print(\"Sigmoid ile SVC Accuracy: \", accuracy_score(y_pred_svc4, y_test))\n",
    "\n",
    "print(\"Sigmoid ile SVC Test accuracy {}\".format(svc4.score(x_test,y_test)))\n",
    "print(\"Sigmoid ile SVC Train accuracy {}\".format(svc4.score(x_train, y_train)))\n",
    "\n",
    "print(\"Sigmoid ile SVC Cross Validation Mean: \", svc_cvs4.mean())\n",
    "print(\"Sigmoid ile SVC Cross Validation Std: \", svc_cvs4.std())"
   ]
  },
  {
   "cell_type": "markdown",
   "id": "d83e3e97",
   "metadata": {
    "papermill": {
     "duration": 0.02151,
     "end_time": "2022-11-12T02:17:04.320407",
     "exception": false,
     "start_time": "2022-11-12T02:17:04.298897",
     "status": "completed"
    },
    "tags": []
   },
   "source": [
    "## Logistic Regression <a id = \"6\"></a>\n",
    "[Go Content](#cont)"
   ]
  },
  {
   "cell_type": "code",
   "execution_count": 45,
   "id": "9a2ad0da",
   "metadata": {
    "execution": {
     "iopub.execute_input": "2022-11-12T02:17:04.365735Z",
     "iopub.status.busy": "2022-11-12T02:17:04.364759Z",
     "iopub.status.idle": "2022-11-12T02:17:17.562467Z",
     "shell.execute_reply": "2022-11-12T02:17:17.561027Z"
    },
    "papermill": {
     "duration": 13.224707,
     "end_time": "2022-11-12T02:17:17.566654",
     "exception": false,
     "start_time": "2022-11-12T02:17:04.341947",
     "status": "completed"
    },
    "tags": []
   },
   "outputs": [
    {
     "name": "stdout",
     "output_type": "stream",
     "text": [
      "Logistic Regression Accuracy:  0.6818340917045852\n",
      "Logistic Regression Test accuracy 0.6818340917045852\n",
      "Logistic Regression Train accuracy 0.8590267242385342\n",
      "Logistic ile SVC Cross Validation Mean:  0.6594405594405595\n",
      "Logistic ile SVC Cross Validation Std:  0.016943854683223097\n"
     ]
    }
   ],
   "source": [
    "logr = LogisticRegression(random_state = 0)\n",
    "logr.fit(x_train, y_train)\n",
    "\n",
    "y_pred_logr = logr.predict(x_test)\n",
    "\n",
    "bas_log = cross_val_score(estimator = logr, X = x_test, y = y_test, cv = 4)\n",
    "\n",
    "print(\"Logistic Regression Accuracy: \", accuracy_score(y_pred_logr, y_test))\n",
    "\n",
    "print(\"Logistic Regression Test accuracy {}\".format(logr.score(x_test,y_test)))\n",
    "print(\"Logistic Regression Train accuracy {}\".format(logr.score(x_train, y_train)))\n",
    "\n",
    "print(\"Logistic ile SVC Cross Validation Mean: \", bas_log.mean())\n",
    "print(\"Logistic ile SVC Cross Validation Std: \", bas_log.std())"
   ]
  },
  {
   "cell_type": "markdown",
   "id": "fdc84a8b",
   "metadata": {
    "papermill": {
     "duration": 0.055212,
     "end_time": "2022-11-12T02:17:17.677116",
     "exception": false,
     "start_time": "2022-11-12T02:17:17.621904",
     "status": "completed"
    },
    "tags": []
   },
   "source": [
    "## K-Nearest Neighbors(KNN) <a id = \"7\"></a>\n",
    "[Go Content](#cont)"
   ]
  },
  {
   "cell_type": "markdown",
   "id": "e17a3955",
   "metadata": {
    "papermill": {
     "duration": 0.021298,
     "end_time": "2022-11-12T02:17:17.725366",
     "exception": false,
     "start_time": "2022-11-12T02:17:17.704068",
     "status": "completed"
    },
    "tags": []
   },
   "source": [
    "- n_neighbors:(int, default=5) Kneighbors sorguları için varsayılan olarak kullanılacak komşu sayısı.\n",
    "\n",
    "- weights : {‘uniform’, ‘distance’} or callable, default=’uniform’<br>\n",
    "    Tahminde kullanılan ağırlık fonksiyonu. Olası değerler:\n",
    "    - ‘uniform’ : tek tip ağırlıklar. Her mahalledeki tüm noktalar eşit ağırlıktadır.\n",
    "    - ‘distance’: uzaklıklarının tersi ile ağırlık noktaları. bu durumda, bir sorgu noktasının daha yakın komşuları, uzaktaki komşulardan daha büyük bir etkiye sahip olacaktır.\n",
    "\n",
    "- p:(int, default=2) Minkowski metriği için güç parametresi. p = 1 olduğunda, bu manhattan_mesafe (l1) ve p = 2 için euclidean_mesafe (l2) kullanımına eşdeğerdir. Rastgele p için minkowski_mesafesi (l_p) kullanılır."
   ]
  },
  {
   "cell_type": "code",
   "execution_count": 46,
   "id": "fb7b8bfa",
   "metadata": {
    "execution": {
     "iopub.execute_input": "2022-11-12T02:17:17.770734Z",
     "iopub.status.busy": "2022-11-12T02:17:17.769718Z",
     "iopub.status.idle": "2022-11-12T02:47:40.209838Z",
     "shell.execute_reply": "2022-11-12T02:47:40.208833Z"
    },
    "papermill": {
     "duration": 1822.490644,
     "end_time": "2022-11-12T02:47:40.237572",
     "exception": false,
     "start_time": "2022-11-12T02:17:17.746928",
     "status": "completed"
    },
    "tags": []
   },
   "outputs": [
    {
     "name": "stdout",
     "output_type": "stream",
     "text": [
      "GridSearch ile knn modelinin en iyi parametırları:  {'n_neighbors': 3, 'p': 1, 'weights': 'distance'}\n",
      "GridSearch ile knn modelinin en iyi skoru:  0.5612109519496086\n"
     ]
    }
   ],
   "source": [
    "knn_grid = KNeighborsClassifier(metric = \"minkowski\")\n",
    "\n",
    "p_knn = {\"n_neighbors\" : range(1,10), \"weights\" : [\"uniform\", \"distance\"], \"p\" : [1,2]}\n",
    "\n",
    "grid_knn = GridSearchCV(estimator = knn_grid, param_grid = p_knn, scoring = \"accuracy\", cv = 4)\n",
    "grid_knn_search = grid_knn.fit(x_train, y_train)\n",
    "y_pred_grid_knn = grid_knn.predict(x_test)\n",
    "\n",
    "best_parm_grid_knn = grid_knn_search.best_params_\n",
    "best_score_grid_knn = grid_knn_search.best_score_\n",
    "\n",
    "print(\"GridSearch ile knn modelinin en iyi parametırları: \", best_parm_grid_knn)\n",
    "print(\"GridSearch ile knn modelinin en iyi skoru: \",best_score_grid_knn)"
   ]
  },
  {
   "cell_type": "markdown",
   "id": "a9ff5749",
   "metadata": {
    "papermill": {
     "duration": 0.033259,
     "end_time": "2022-11-12T02:47:40.306315",
     "exception": false,
     "start_time": "2022-11-12T02:47:40.273056",
     "status": "completed"
    },
    "tags": []
   },
   "source": [
    "## Decision Tree Classification <a id = \"8\"></a>\n",
    "[Go Content](#cont)\n",
    "\n",
    "- criterion : ({“gini”, “entropy”, “log_loss”}, default=”gini”) Bir bölünmenin kalitesini ölçme işlevi. Desteklenen kriterler, Gini safsızlığı için \"gini\" ve Shannon bilgi kazancı için \"log_loss\" ve \"entropi\"dir.\n",
    "\n",
    "- splitter : ({“best”, “random”}, default=”best”) Her düğümde bölünmeyi seçmek için kullanılan strateji. Desteklenen stratejiler, en iyi bölmeyi seçmek için \"en iyi\" ve en iyi rastgele bölmeyi seçmek için \"rastgele\"dir."
   ]
  },
  {
   "cell_type": "code",
   "execution_count": 47,
   "id": "b9147768",
   "metadata": {
    "execution": {
     "iopub.execute_input": "2022-11-12T02:47:40.375493Z",
     "iopub.status.busy": "2022-11-12T02:47:40.375081Z",
     "iopub.status.idle": "2022-11-12T02:48:21.771465Z",
     "shell.execute_reply": "2022-11-12T02:48:21.770478Z"
    },
    "papermill": {
     "duration": 41.455685,
     "end_time": "2022-11-12T02:48:21.795922",
     "exception": false,
     "start_time": "2022-11-12T02:47:40.340237",
     "status": "completed"
    },
    "tags": []
   },
   "outputs": [
    {
     "name": "stdout",
     "output_type": "stream",
     "text": [
      "GridSearch ile dtc modelinin en iyi parametırları:  {'criterion': 'entropy', 'splitter': 'random'}\n",
      "GridSearch ile dtc modelinin en iyi skoru:  0.5829163676669922\n"
     ]
    }
   ],
   "source": [
    "dtr = DecisionTreeClassifier()\n",
    "\n",
    "p_dtc = {\"criterion\" : [\"gini\", \"entropy\"], \"splitter\" : [\"best\", \"random\"], }\n",
    "\n",
    "grid_dtc = GridSearchCV(estimator = dtr, param_grid = p_dtc, scoring = \"accuracy\", cv = 4)\n",
    "grid_dtc_search = grid_dtc.fit(x_train, y_train)\n",
    "y_pred_grid_dtc = grid_dtc.predict(x_test)\n",
    "\n",
    "best_parm_grid_dtc = grid_dtc_search.best_params_\n",
    "best_score_grid_dtc = grid_dtc_search.best_score_\n",
    "\n",
    "print(\"GridSearch ile dtc modelinin en iyi parametırları: \", best_parm_grid_dtc)\n",
    "print(\"GridSearch ile dtc modelinin en iyi skoru: \",best_score_grid_dtc)"
   ]
  },
  {
   "cell_type": "markdown",
   "id": "78b80c90",
   "metadata": {
    "papermill": {
     "duration": 0.02142,
     "end_time": "2022-11-12T02:48:21.839804",
     "exception": false,
     "start_time": "2022-11-12T02:48:21.818384",
     "status": "completed"
    },
    "tags": []
   },
   "source": [
    "## Random Forest Classification <a id = \"9\"></a>\n",
    "[Go Content](#cont)\n",
    "\n",
    "- n_estimators: (int, default=100) Ormandaki ağaç sayısı.\n",
    "\n",
    "- criterion: ({“gini”, “entropy”, “log_loss”}, default=”gini”) Bir bölünmenin kalitesini ölçme işlevi. Desteklenen kriterler, Gini safsızlığı için \"gini\" ve Shannon bilgi kazancı için \"log_loss\" ve \"entropi\"dir.\n",
    "\n",
    "- class_weight: ({“balanced”, “balanced_subsample”}, dict or list of dicts, default=None)\n",
    "\n",
    "    {class_label:weight} biçimindeki sınıflarla ilişkili ağırlıklar. Verilmezse, tüm sınıfların bir ağırlığı olması gerekir. Çok çıkışlı problemler için, y sütunlarıyla aynı sırada bir dicts listesi sağlanabilir.\n",
    "    \n",
    "    Çoklu çıktı (çoklu etiket dahil) için, her sütunun her sınıfı için kendi diktinde ağırlıkların tanımlanması gerektiğini unutmayın. Örneğin, dört sınıflı çok etiketli sınıflandırma için ağırlıklar [{0: 1, 1: 1}, {0: 1, 1: 5}, {0: 1, 1: 1}, {0:1, 1: olmalıdır. 1}] yerine [{1:1}, {2:5}, {3:1}, {4:1}].\n",
    "    \n",
    "    “balanced” mod, girdi verilerindeki sınıf frekanslarıyla ters orantılı ağırlıkları n_samples / (n_classes * np.bincount(y)) olarak otomatik olarak ayarlamak için y değerlerini kullanır.\n",
    "    \n",
    "    \"balanced_subsample\" modu, ağırlıkların büyütülen her ağaç için önyükleme örneğine göre hesaplanması dışında \"dengeli\" ile aynıdır.\n",
    "    \n",
    "    Çoklu çıktı için, her bir y sütununun ağırlıkları çarpılacaktır.\n",
    "    \n",
    "    Sample_weight belirtilirse, bu ağırlıkların sample_weight ile (uyma yönteminden geçirilen) çarpılacağını unutmayın.\n"
   ]
  },
  {
   "cell_type": "code",
   "execution_count": 48,
   "id": "294cb1d6",
   "metadata": {
    "execution": {
     "iopub.execute_input": "2022-11-12T02:48:21.885223Z",
     "iopub.status.busy": "2022-11-12T02:48:21.884887Z",
     "iopub.status.idle": "2022-11-12T02:49:21.627395Z",
     "shell.execute_reply": "2022-11-12T02:49:21.626424Z"
    },
    "papermill": {
     "duration": 59.789903,
     "end_time": "2022-11-12T02:49:21.651984",
     "exception": false,
     "start_time": "2022-11-12T02:48:21.862081",
     "status": "completed"
    },
    "tags": []
   },
   "outputs": [
    {
     "name": "stdout",
     "output_type": "stream",
     "text": [
      "GridSearch ile rfc modelinin en iyi parametırları:  {'class_weight': 'balanced_subsample', 'criterion': 'entropy', 'n_estimators': 9}\n",
      "GridSearch ile rfc modelinin en iyi skoru:  0.6425495925543961\n"
     ]
    }
   ],
   "source": [
    "rfc = RandomForestClassifier()\n",
    "\n",
    "p_rfc = {\"n_estimators\" : range(1,10), \"criterion\" : [\"gini\", \"entropy\"], \"class_weight\" : [\"balanced\", \"balanced_subsample\"]}\n",
    "\n",
    "grid_rfc = GridSearchCV(estimator = rfc, param_grid = p_rfc, scoring = \"accuracy\", cv = 4)\n",
    "grid_rfc_search = grid_rfc.fit(x_train, y_train)\n",
    "y_pred_grid_rfc = grid_rfc.predict(x_test)\n",
    "    \n",
    "best_parm_grid_rfc = grid_rfc_search.best_params_\n",
    "best_score_grid_rfc = grid_rfc_search.best_score_\n",
    "\n",
    "print(\"GridSearch ile rfc modelinin en iyi parametırları: \", best_parm_grid_rfc)\n",
    "print(\"GridSearch ile rfc modelinin en iyi skoru: \",best_score_grid_rfc)"
   ]
  },
  {
   "cell_type": "markdown",
   "id": "45ee958f",
   "metadata": {
    "papermill": {
     "duration": 0.02115,
     "end_time": "2022-11-12T02:49:21.695719",
     "exception": false,
     "start_time": "2022-11-12T02:49:21.674569",
     "status": "completed"
    },
    "tags": []
   },
   "source": [
    "# Derin Öğrenme Modelleri <a id = \"döm\"></a>\n",
    "[Go Content](#cont)"
   ]
  },
  {
   "cell_type": "markdown",
   "id": "8ce05778",
   "metadata": {
    "papermill": {
     "duration": 0.021415,
     "end_time": "2022-11-12T02:49:21.738395",
     "exception": false,
     "start_time": "2022-11-12T02:49:21.716980",
     "status": "completed"
    },
    "tags": []
   },
   "source": [
    "## RNN(Reccurrent Neural Network) <a id = \"10\"></a>\n",
    "[Go Content](#cont)"
   ]
  },
  {
   "cell_type": "code",
   "execution_count": 49,
   "id": "213ca872",
   "metadata": {
    "execution": {
     "iopub.execute_input": "2022-11-12T02:49:21.782686Z",
     "iopub.status.busy": "2022-11-12T02:49:21.782338Z",
     "iopub.status.idle": "2022-11-12T02:49:26.988683Z",
     "shell.execute_reply": "2022-11-12T02:49:26.987697Z"
    },
    "papermill": {
     "duration": 5.23209,
     "end_time": "2022-11-12T02:49:26.991809",
     "exception": false,
     "start_time": "2022-11-12T02:49:21.759719",
     "status": "completed"
    },
    "tags": []
   },
   "outputs": [],
   "source": [
    "from keras.models import Sequential\n",
    "from tensorflow.keras.layers import Embedding\n",
    "from keras.layers import SimpleRNN, Dense, Activation, LSTM, Dropout\n",
    "from tensorflow.keras.preprocessing.sequence import pad_sequences"
   ]
  },
  {
   "cell_type": "code",
   "execution_count": 50,
   "id": "a675eaef",
   "metadata": {
    "execution": {
     "iopub.execute_input": "2022-11-12T02:49:27.060190Z",
     "iopub.status.busy": "2022-11-12T02:49:27.059553Z",
     "iopub.status.idle": "2022-11-12T02:49:27.097726Z",
     "shell.execute_reply": "2022-11-12T02:49:27.096821Z"
    },
    "papermill": {
     "duration": 0.06672,
     "end_time": "2022-11-12T02:49:27.099937",
     "exception": false,
     "start_time": "2022-11-12T02:49:27.033217",
     "status": "completed"
    },
    "tags": []
   },
   "outputs": [],
   "source": [
    "maxlen = 300\n",
    "X_train = pad_sequences(x_train, maxlen = maxlen)\n",
    "X_test = pad_sequences(x_test, maxlen = maxlen)"
   ]
  },
  {
   "cell_type": "code",
   "execution_count": 51,
   "id": "1a6e83f5",
   "metadata": {
    "execution": {
     "iopub.execute_input": "2022-11-12T02:49:27.145293Z",
     "iopub.status.busy": "2022-11-12T02:49:27.144663Z",
     "iopub.status.idle": "2022-11-12T02:49:30.005215Z",
     "shell.execute_reply": "2022-11-12T02:49:30.004271Z"
    },
    "papermill": {
     "duration": 2.885599,
     "end_time": "2022-11-12T02:49:30.007653",
     "exception": false,
     "start_time": "2022-11-12T02:49:27.122054",
     "status": "completed"
    },
    "tags": []
   },
   "outputs": [
    {
     "name": "stderr",
     "output_type": "stream",
     "text": [
      "2022-11-12 02:49:27.228304: I tensorflow/stream_executor/cuda/cuda_gpu_executor.cc:937] successful NUMA node read from SysFS had negative value (-1), but there must be at least one NUMA node, so returning NUMA node zero\n",
      "2022-11-12 02:49:27.324133: I tensorflow/stream_executor/cuda/cuda_gpu_executor.cc:937] successful NUMA node read from SysFS had negative value (-1), but there must be at least one NUMA node, so returning NUMA node zero\n",
      "2022-11-12 02:49:27.324968: I tensorflow/stream_executor/cuda/cuda_gpu_executor.cc:937] successful NUMA node read from SysFS had negative value (-1), but there must be at least one NUMA node, so returning NUMA node zero\n",
      "2022-11-12 02:49:27.326249: I tensorflow/core/platform/cpu_feature_guard.cc:142] This TensorFlow binary is optimized with oneAPI Deep Neural Network Library (oneDNN) to use the following CPU instructions in performance-critical operations:  AVX2 AVX512F FMA\n",
      "To enable them in other operations, rebuild TensorFlow with the appropriate compiler flags.\n",
      "2022-11-12 02:49:27.326580: I tensorflow/stream_executor/cuda/cuda_gpu_executor.cc:937] successful NUMA node read from SysFS had negative value (-1), but there must be at least one NUMA node, so returning NUMA node zero\n",
      "2022-11-12 02:49:27.327320: I tensorflow/stream_executor/cuda/cuda_gpu_executor.cc:937] successful NUMA node read from SysFS had negative value (-1), but there must be at least one NUMA node, so returning NUMA node zero\n",
      "2022-11-12 02:49:27.327992: I tensorflow/stream_executor/cuda/cuda_gpu_executor.cc:937] successful NUMA node read from SysFS had negative value (-1), but there must be at least one NUMA node, so returning NUMA node zero\n",
      "2022-11-12 02:49:29.520867: I tensorflow/stream_executor/cuda/cuda_gpu_executor.cc:937] successful NUMA node read from SysFS had negative value (-1), but there must be at least one NUMA node, so returning NUMA node zero\n",
      "2022-11-12 02:49:29.521661: I tensorflow/stream_executor/cuda/cuda_gpu_executor.cc:937] successful NUMA node read from SysFS had negative value (-1), but there must be at least one NUMA node, so returning NUMA node zero\n",
      "2022-11-12 02:49:29.522358: I tensorflow/stream_executor/cuda/cuda_gpu_executor.cc:937] successful NUMA node read from SysFS had negative value (-1), but there must be at least one NUMA node, so returning NUMA node zero\n",
      "2022-11-12 02:49:29.522970: I tensorflow/core/common_runtime/gpu/gpu_device.cc:1510] Created device /job:localhost/replica:0/task:0/device:GPU:0 with 15401 MB memory:  -> device: 0, name: Tesla P100-PCIE-16GB, pci bus id: 0000:00:04.0, compute capability: 6.0\n"
     ]
    }
   ],
   "source": [
    "rnn = Sequential()\n",
    "\n",
    "rnn = Sequential()\n",
    "rnn.add(Embedding(max_feature, 32, input_length = len(X_train[0])))\n",
    "rnn.add(SimpleRNN(16, input_shape = (max_feature,maxlen), return_sequences= False, activation= \"tanh\"))\n",
    "rnn.add(Dense(1))\n",
    "\n",
    "rnn.add(Activation(\"softmax\"))\n",
    "rnn.compile(loss = \"binary_crossentropy\", optimizer = \"rmsprop\", metrics = [\"accuracy\"])"
   ]
  },
  {
   "cell_type": "code",
   "execution_count": 52,
   "id": "c770fefd",
   "metadata": {
    "execution": {
     "iopub.execute_input": "2022-11-12T02:49:30.053097Z",
     "iopub.status.busy": "2022-11-12T02:49:30.052730Z",
     "iopub.status.idle": "2022-11-12T02:49:30.059071Z",
     "shell.execute_reply": "2022-11-12T02:49:30.058140Z"
    },
    "papermill": {
     "duration": 0.031778,
     "end_time": "2022-11-12T02:49:30.061671",
     "exception": false,
     "start_time": "2022-11-12T02:49:30.029893",
     "status": "completed"
    },
    "tags": []
   },
   "outputs": [
    {
     "name": "stdout",
     "output_type": "stream",
     "text": [
      "Model: \"sequential_1\"\n",
      "_________________________________________________________________\n",
      "Layer (type)                 Output Shape              Param #   \n",
      "=================================================================\n",
      "embedding (Embedding)        (None, 300, 32)           64000     \n",
      "_________________________________________________________________\n",
      "simple_rnn (SimpleRNN)       (None, 16)                784       \n",
      "_________________________________________________________________\n",
      "dense (Dense)                (None, 1)                 17        \n",
      "_________________________________________________________________\n",
      "activation (Activation)      (None, 1)                 0         \n",
      "=================================================================\n",
      "Total params: 64,801\n",
      "Trainable params: 64,801\n",
      "Non-trainable params: 0\n",
      "_________________________________________________________________\n",
      "None\n"
     ]
    }
   ],
   "source": [
    "print(rnn.summary())"
   ]
  },
  {
   "cell_type": "code",
   "execution_count": 53,
   "id": "cb84be1a",
   "metadata": {
    "execution": {
     "iopub.execute_input": "2022-11-12T02:49:30.106895Z",
     "iopub.status.busy": "2022-11-12T02:49:30.106024Z",
     "iopub.status.idle": "2022-11-12T03:01:49.791253Z",
     "shell.execute_reply": "2022-11-12T03:01:49.789758Z"
    },
    "papermill": {
     "duration": 739.710367,
     "end_time": "2022-11-12T03:01:49.793755",
     "exception": false,
     "start_time": "2022-11-12T02:49:30.083388",
     "status": "completed"
    },
    "tags": []
   },
   "outputs": [
    {
     "name": "stdout",
     "output_type": "stream",
     "text": [
      "Epoch 1/10\n"
     ]
    },
    {
     "name": "stderr",
     "output_type": "stream",
     "text": [
      "2022-11-12 02:49:30.157156: I tensorflow/compiler/mlir/mlir_graph_optimization_pass.cc:185] None of the MLIR Optimization Passes are enabled (registered 2)\n"
     ]
    },
    {
     "name": "stdout",
     "output_type": "stream",
     "text": [
      "268/268 [==============================] - 75s 274ms/step - loss: 0.3658 - accuracy: 0.3715 - val_loss: 0.3555 - val_accuracy: 0.3689\n",
      "Epoch 2/10\n",
      "268/268 [==============================] - 75s 280ms/step - loss: 0.3618 - accuracy: 0.3715 - val_loss: 0.3466 - val_accuracy: 0.3689\n",
      "Epoch 3/10\n",
      "268/268 [==============================] - 74s 276ms/step - loss: 0.3550 - accuracy: 0.3715 - val_loss: 0.3383 - val_accuracy: 0.3689\n",
      "Epoch 4/10\n",
      "268/268 [==============================] - 74s 276ms/step - loss: 0.3549 - accuracy: 0.3715 - val_loss: 0.3737 - val_accuracy: 0.3689\n",
      "Epoch 5/10\n",
      "268/268 [==============================] - 74s 275ms/step - loss: 0.3581 - accuracy: 0.3715 - val_loss: 0.3338 - val_accuracy: 0.3689\n",
      "Epoch 6/10\n",
      "268/268 [==============================] - 72s 270ms/step - loss: 0.3536 - accuracy: 0.3715 - val_loss: 0.3303 - val_accuracy: 0.3689\n",
      "Epoch 7/10\n",
      "268/268 [==============================] - 74s 277ms/step - loss: 0.3479 - accuracy: 0.3715 - val_loss: 0.3286 - val_accuracy: 0.3689\n",
      "Epoch 8/10\n",
      "268/268 [==============================] - 74s 276ms/step - loss: 0.3481 - accuracy: 0.3715 - val_loss: 0.3254 - val_accuracy: 0.3689\n",
      "Epoch 9/10\n",
      "268/268 [==============================] - 73s 272ms/step - loss: 0.3444 - accuracy: 0.3715 - val_loss: 0.3246 - val_accuracy: 0.3689\n",
      "Epoch 10/10\n",
      "268/268 [==============================] - 74s 276ms/step - loss: 0.3441 - accuracy: 0.3715 - val_loss: 0.3386 - val_accuracy: 0.3689\n"
     ]
    }
   ],
   "source": [
    "History_rnn = rnn.fit(X_train, y_train, validation_data = (X_test, y_test), epochs = 10, batch_size = 32)"
   ]
  },
  {
   "cell_type": "code",
   "execution_count": 54,
   "id": "4a8b87f4",
   "metadata": {
    "execution": {
     "iopub.execute_input": "2022-11-12T03:01:50.113629Z",
     "iopub.status.busy": "2022-11-12T03:01:50.113275Z",
     "iopub.status.idle": "2022-11-12T03:01:52.007198Z",
     "shell.execute_reply": "2022-11-12T03:01:52.005993Z"
    },
    "papermill": {
     "duration": 2.055606,
     "end_time": "2022-11-12T03:01:52.009811",
     "exception": false,
     "start_time": "2022-11-12T03:01:49.954205",
     "status": "completed"
    },
    "tags": []
   },
   "outputs": [
    {
     "name": "stdout",
     "output_type": "stream",
     "text": [
      "90/90 [==============================] - 2s 20ms/step - loss: 0.3386 - accuracy: 0.3689\n",
      "Accuracy: % 36.89184486865997\n"
     ]
    }
   ],
   "source": [
    "score = rnn.evaluate(X_test, y_test)\n",
    "print(\"Accuracy: %\",score[1]*100)"
   ]
  },
  {
   "cell_type": "code",
   "execution_count": 55,
   "id": "12cdca42",
   "metadata": {
    "execution": {
     "iopub.execute_input": "2022-11-12T03:01:52.332176Z",
     "iopub.status.busy": "2022-11-12T03:01:52.331766Z",
     "iopub.status.idle": "2022-11-12T03:01:52.641022Z",
     "shell.execute_reply": "2022-11-12T03:01:52.640075Z"
    },
    "papermill": {
     "duration": 0.473834,
     "end_time": "2022-11-12T03:01:52.644318",
     "exception": false,
     "start_time": "2022-11-12T03:01:52.170484",
     "status": "completed"
    },
    "tags": []
   },
   "outputs": [
    {
     "data": {
      "image/png": "[encoded data removed]",
      "text/plain": [
       "<Figure size 1224x360 with 2 Axes>"
      ]
     },
     "metadata": {
      "needs_background": "light"
     },
     "output_type": "display_data"
    }
   ],
   "source": [
    "plt.figure(figsize = (17,5))\n",
    "plt.subplot(1, 2, 1)\n",
    "plt.plot(History_rnn.history[\"accuracy\"], label = \"Train\")\n",
    "plt.plot(History_rnn.history[\"val_accuracy\"], label = \"Test\")\n",
    "plt.title(\"Acc\")\n",
    "plt.ylabel(\"Acc\")\n",
    "plt.xlabel(\"Epochs\")\n",
    "plt.legend()\n",
    "\n",
    "plt.subplot(1, 2, 2)\n",
    "plt.plot(History_rnn.history[\"loss\"], label = \"Train\")\n",
    "plt.plot(History_rnn.history[\"val_loss\"], label = \"Test\")\n",
    "plt.title(\"Acc\")\n",
    "plt.ylabel(\"Acc\")\n",
    "plt.xlabel(\"Epochs\")\n",
    "plt.legend()\n",
    "plt.show()"
   ]
  },
  {
   "cell_type": "markdown",
   "id": "92dd6022",
   "metadata": {
    "papermill": {
     "duration": 0.160597,
     "end_time": "2022-11-12T03:01:52.967052",
     "exception": false,
     "start_time": "2022-11-12T03:01:52.806455",
     "status": "completed"
    },
    "tags": []
   },
   "source": [
    "# LSTM(Long short-term memory) <a id = \"11\"></a>\n",
    "[Go Content](#cont)"
   ]
  },
  {
   "cell_type": "code",
   "execution_count": 56,
   "id": "3f99e076",
   "metadata": {
    "execution": {
     "iopub.execute_input": "2022-11-12T03:01:53.347434Z",
     "iopub.status.busy": "2022-11-12T03:01:53.347067Z",
     "iopub.status.idle": "2022-11-12T03:01:53.558735Z",
     "shell.execute_reply": "2022-11-12T03:01:53.557807Z"
    },
    "papermill": {
     "duration": 0.430217,
     "end_time": "2022-11-12T03:01:53.561108",
     "exception": false,
     "start_time": "2022-11-12T03:01:53.130891",
     "status": "completed"
    },
    "tags": []
   },
   "outputs": [],
   "source": [
    "model = Sequential()\n",
    "model.add(Embedding(max_feature, 16, input_length = len(X_train[0])))\n",
    "model.add(LSTM(8, input_shape = (max_feature,maxlen), activation = \"tanh\"))\n",
    "model.add(Dense(1))\n",
    "model.add(Activation(\"softmax\"))\n",
    "model.compile(loss = \"mean_squared_error\", optimizer = \"adam\", metrics = [\"accuracy\"])"
   ]
  },
  {
   "cell_type": "code",
   "execution_count": 57,
   "id": "0a4e0f9a",
   "metadata": {
    "execution": {
     "iopub.execute_input": "2022-11-12T03:01:53.883027Z",
     "iopub.status.busy": "2022-11-12T03:01:53.881990Z",
     "iopub.status.idle": "2022-11-12T03:01:53.889127Z",
     "shell.execute_reply": "2022-11-12T03:01:53.888078Z"
    },
    "papermill": {
     "duration": 0.171554,
     "end_time": "2022-11-12T03:01:53.892001",
     "exception": false,
     "start_time": "2022-11-12T03:01:53.720447",
     "status": "completed"
    },
    "tags": []
   },
   "outputs": [
    {
     "name": "stdout",
     "output_type": "stream",
     "text": [
      "Model: \"sequential_2\"\n",
      "_________________________________________________________________\n",
      "Layer (type)                 Output Shape              Param #   \n",
      "=================================================================\n",
      "embedding_1 (Embedding)      (None, 300, 16)           32000     \n",
      "_________________________________________________________________\n",
      "lstm (LSTM)                  (None, 8)                 800       \n",
      "_________________________________________________________________\n",
      "dense_1 (Dense)              (None, 1)                 9         \n",
      "_________________________________________________________________\n",
      "activation_1 (Activation)    (None, 1)                 0         \n",
      "=================================================================\n",
      "Total params: 32,809\n",
      "Trainable params: 32,809\n",
      "Non-trainable params: 0\n",
      "_________________________________________________________________\n",
      "None\n"
     ]
    }
   ],
   "source": [
    "print(model.summary())"
   ]
  },
  {
   "cell_type": "code",
   "execution_count": 58,
   "id": "87540f1b",
   "metadata": {
    "execution": {
     "iopub.execute_input": "2022-11-12T03:01:54.270610Z",
     "iopub.status.busy": "2022-11-12T03:01:54.270233Z",
     "iopub.status.idle": "2022-11-12T03:04:17.701721Z",
     "shell.execute_reply": "2022-11-12T03:04:17.700547Z"
    },
    "papermill": {
     "duration": 143.642051,
     "end_time": "2022-11-12T03:04:17.704618",
     "exception": false,
     "start_time": "2022-11-12T03:01:54.062567",
     "status": "completed"
    },
    "tags": []
   },
   "outputs": [
    {
     "name": "stdout",
     "output_type": "stream",
     "text": [
      "Epoch 1/10\n"
     ]
    },
    {
     "name": "stderr",
     "output_type": "stream",
     "text": [
      "2022-11-12 03:01:56.606106: I tensorflow/stream_executor/cuda/cuda_dnn.cc:369] Loaded cuDNN version 8005\n"
     ]
    },
    {
     "name": "stdout",
     "output_type": "stream",
     "text": [
      "857/857 [==============================] - 13s 12ms/step - loss: 0.6285 - accuracy: 0.3715 - val_loss: 0.6311 - val_accuracy: 0.3689\n",
      "Epoch 2/10\n",
      "857/857 [==============================] - 10s 11ms/step - loss: 0.6285 - accuracy: 0.3715 - val_loss: 0.6311 - val_accuracy: 0.3689\n",
      "Epoch 3/10\n",
      "857/857 [==============================] - 10s 12ms/step - loss: 0.6285 - accuracy: 0.3715 - val_loss: 0.6311 - val_accuracy: 0.3689\n",
      "Epoch 4/10\n",
      "857/857 [==============================] - 10s 11ms/step - loss: 0.6285 - accuracy: 0.3715 - val_loss: 0.6311 - val_accuracy: 0.3689\n",
      "Epoch 5/10\n",
      "857/857 [==============================] - 10s 11ms/step - loss: 0.6285 - accuracy: 0.3715 - val_loss: 0.6311 - val_accuracy: 0.3689\n",
      "Epoch 6/10\n",
      "857/857 [==============================] - 10s 12ms/step - loss: 0.6285 - accuracy: 0.3715 - val_loss: 0.6311 - val_accuracy: 0.3689\n",
      "Epoch 7/10\n",
      "857/857 [==============================] - 10s 11ms/step - loss: 0.6285 - accuracy: 0.3715 - val_loss: 0.6311 - val_accuracy: 0.3689\n",
      "Epoch 8/10\n",
      "857/857 [==============================] - 10s 11ms/step - loss: 0.6285 - accuracy: 0.3715 - val_loss: 0.6311 - val_accuracy: 0.3689\n",
      "Epoch 9/10\n",
      "857/857 [==============================] - 10s 12ms/step - loss: 0.6285 - accuracy: 0.3715 - val_loss: 0.6311 - val_accuracy: 0.3689\n",
      "Epoch 10/10\n",
      "857/857 [==============================] - 10s 11ms/step - loss: 0.6285 - accuracy: 0.3715 - val_loss: 0.6311 - val_accuracy: 0.3689\n"
     ]
    }
   ],
   "source": [
    "hist_lstm = model.fit(X_train, y_train, epochs = 10, validation_data = (X_test, y_test), batch_size = 10)"
   ]
  },
  {
   "cell_type": "code",
   "execution_count": 59,
   "id": "94b41c10",
   "metadata": {
    "execution": {
     "iopub.execute_input": "2022-11-12T03:04:18.296569Z",
     "iopub.status.busy": "2022-11-12T03:04:18.296209Z",
     "iopub.status.idle": "2022-11-12T03:04:18.946689Z",
     "shell.execute_reply": "2022-11-12T03:04:18.945008Z"
    },
    "papermill": {
     "duration": 0.895559,
     "end_time": "2022-11-12T03:04:18.948760",
     "exception": false,
     "start_time": "2022-11-12T03:04:18.053201",
     "status": "completed"
    },
    "tags": []
   },
   "outputs": [
    {
     "name": "stdout",
     "output_type": "stream",
     "text": [
      "90/90 [==============================] - 1s 7ms/step - loss: 0.6311 - accuracy: 0.3689\n",
      "Accuracy: % 36.89184486865997\n"
     ]
    }
   ],
   "source": [
    "score = model.evaluate(X_test, y_test)\n",
    "print(\"Accuracy: %\",score[1]*100)"
   ]
  },
  {
   "cell_type": "code",
   "execution_count": 60,
   "id": "687f31e7",
   "metadata": {
    "execution": {
     "iopub.execute_input": "2022-11-12T03:04:19.477973Z",
     "iopub.status.busy": "2022-11-12T03:04:19.477576Z",
     "iopub.status.idle": "2022-11-12T03:04:19.793900Z",
     "shell.execute_reply": "2022-11-12T03:04:19.792983Z"
    },
    "papermill": {
     "duration": 0.558206,
     "end_time": "2022-11-12T03:04:19.796193",
     "exception": false,
     "start_time": "2022-11-12T03:04:19.237987",
     "status": "completed"
    },
    "tags": []
   },
   "outputs": [
    {
     "data": {
      "image/png": "[encoded data removed]",
      "text/plain": [
       "<Figure size 1224x360 with 2 Axes>"
      ]
     },
     "metadata": {
      "needs_background": "light"
     },
     "output_type": "display_data"
    }
   ],
   "source": [
    "plt.figure(figsize = (17,5))\n",
    "plt.subplot(1, 2, 1)\n",
    "plt.plot(hist_lstm.history[\"accuracy\"], label = \"Train\")\n",
    "plt.plot(hist_lstm.history[\"val_accuracy\"], label = \"Test\")\n",
    "plt.title(\"Acc\")\n",
    "plt.ylabel(\"Acc\")\n",
    "plt.xlabel(\"Epochs\")\n",
    "plt.legend()\n",
    "\n",
    "plt.subplot(1, 2, 2)\n",
    "plt.plot(hist_lstm.history[\"loss\"], label = \"Train\")\n",
    "plt.plot(hist_lstm.history[\"val_loss\"], label = \"Test\")\n",
    "plt.title(\"Acc\")\n",
    "plt.ylabel(\"Acc\")\n",
    "plt.xlabel(\"Epochs\")\n",
    "plt.legend()\n",
    "plt.show()"
   ]
  },
  {
   "cell_type": "markdown",
   "id": "715ed7aa",
   "metadata": {
    "papermill": {
     "duration": 0.235933,
     "end_time": "2022-11-12T03:04:20.269282",
     "exception": false,
     "start_time": "2022-11-12T03:04:20.033349",
     "status": "completed"
    },
    "tags": []
   },
   "source": [
    "# Sonuç <a id = \"son\"></a>\n",
    "[Go Content](#cont)"
   ]
  }
 ],
 "metadata": {
  "kernelspec": {
   "display_name": "Python 3",
   "language": "python",
   "name": "python3"
  },
  "language_info": {
   "codemirror_mode": {
    "name": "ipython",
    "version": 3
   },
   "file_extension": ".py",
   "mimetype": "text/x-python",
   "name": "python",
   "nbconvert_exporter": "python",
   "pygments_lexer": "ipython3",
   "version": "3.7.12"
  },
  "papermill": {
   "default_parameters": {},
   "duration": 5011.318222,
   "end_time": "2022-11-12T03:04:23.283257",
   "environment_variables": {},
   "exception": null,
   "input_path": "__notebook__.ipynb",
   "output_path": "__notebook__.ipynb",
   "parameters": {},
   "start_time": "2022-11-12T01:40:51.965035",
   "version": "2.3.4"
  }
 },
 "nbformat": 4,
 "nbformat_minor": 5
}
